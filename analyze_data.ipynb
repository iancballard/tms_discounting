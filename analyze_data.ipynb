{
 "cells": [
  {
   "cell_type": "code",
   "execution_count": 174,
   "metadata": {
    "collapsed": false
   },
   "outputs": [],
   "source": [
    "import pandas as pd\n",
    "import numpy as np\n",
    "import math\n",
    "import glob\n",
    "import scipy\n",
    "import os.path as op\n",
    "from scipy.optimize import basinhopping\n",
    "from scipy.optimize import minimize\n",
    "import scipy.stats as stats\n",
    "import matplotlib.pyplot as plt\n",
    "import multiprocessing\n",
    "import seaborn as sns\n",
    "from statsmodels.formula.api import ols\n",
    "import statsmodels.api as sm \n",
    "import statsmodels.formula.api as smf\n",
    "\n",
    "#r stuff\n",
    "import rpy2\n",
    "import rpy2.robjects as robjects\n",
    "import rpy2.robjects.packages as rpackages\n",
    "from rpy2.robjects.vectors import StrVector\n",
    "from rpy2.robjects.packages import importr\n",
    "from rpy2.robjects import pandas2ri\n",
    "pandas2ri.activate()\n",
    "from rpy2.robjects import r\n",
    "base = importr('base')\n",
    "afex = importr('afex') \n",
    "lme4 = importr(\"lme4\")\n",
    "\n",
    "%matplotlib inline"
   ]
  },
  {
   "cell_type": "code",
   "execution_count": 2,
   "metadata": {
    "collapsed": false
   },
   "outputs": [],
   "source": [
    "# get list of data files to process\n",
    "data_files = glob.glob('data/*txt')"
   ]
  },
  {
   "cell_type": "code",
   "execution_count": 3,
   "metadata": {
    "collapsed": false
   },
   "outputs": [],
   "source": [
    "# CONSTANTS NECESSARY FOR MAKING SENSE OF THE DATA FILES\n",
    "col_names = ['stim', 'cond', 'trial', 'amountSS',\n",
    "             'amountLL', 'delayLL', 'choice', 'space','pct_diff']\n",
    "stim = { 1:'Pre', 2:'TMS', 3:'Sham' }\n",
    "cond = { 1:'Ctrl', 2:'Hidden Zero', 3:'Magnitude' }\n",
    "choice = { 1:'SS', 0:'LL'}"
   ]
  },
  {
   "cell_type": "code",
   "execution_count": 4,
   "metadata": {
    "collapsed": false
   },
   "outputs": [],
   "source": [
    "all_data = []\n",
    "for f in data_files:\n",
    "    data = pd.read_csv(f, delimiter = '\\t', header = None,\n",
    "                      names = col_names, index_col = False)\n",
    "    \n",
    "    data['choice_binary'] = data['choice']\n",
    "    data['choice'] = [choice[x] for x in data['choice']]\n",
    "    data['cond'] = [cond[x] for x in data['cond']]\n",
    "    data['stim'] = [stim[x] for x in data['stim']]\n",
    "    \n",
    "    data = data[['stim', 'cond', 'trial', 'amountSS', \n",
    "                 'amountLL', 'delayLL', 'choice','choice_binary','pct_diff']]\n",
    "    \n",
    "    data['hemi'] = f.split('/')[1].split('s')[0]\n",
    "    data['sub'] = f.split('.')[0][-2:]\n",
    "     \n",
    "    all_data.append(data)\n",
    "all_data = pd.concat(all_data)"
   ]
  },
  {
   "cell_type": "code",
   "execution_count": 5,
   "metadata": {
    "collapsed": true
   },
   "outputs": [],
   "source": [
    "def find_K(A1,A2,d1,d2):\n",
    "    return (A2/A1 - 1)*1.0 / (d2 - (A2/A1)*d1)"
   ]
  },
  {
   "cell_type": "code",
   "execution_count": 336,
   "metadata": {
    "collapsed": false
   },
   "outputs": [
    {
     "data": {
      "text/plain": [
       "0.00035714285714284955"
      ]
     },
     "execution_count": 336,
     "metadata": {},
     "output_type": "execute_result"
    }
   ],
   "source": []
  },
  {
   "cell_type": "code",
   "execution_count": 6,
   "metadata": {
    "collapsed": false
   },
   "outputs": [],
   "source": [
    "#find k_eq for each choice\n",
    "for row in set(all_data.index):\n",
    "    k_eq = find_K(all_data.loc[row,'amountSS'].values[0],\n",
    "       all_data.loc[row,'amountLL'].values[0],\n",
    "       0,\n",
    "       all_data.loc[row,'delayLL'].values[0])\n",
    "    \n",
    "\n",
    "    all_data.loc[row,'k_eq'] = k_eq\n",
    "\n",
    "#drop trial level\n",
    "all_data = all_data.reset_index().set_index(['sub','cond','stim','hemi']).sort_index()"
   ]
  },
  {
   "cell_type": "code",
   "execution_count": 7,
   "metadata": {
    "collapsed": true
   },
   "outputs": [],
   "source": [
    "def hyperbolic(A,d,k):\n",
    "    return A * 1.0/(1.0+k*d)"
   ]
  },
  {
   "cell_type": "code",
   "execution_count": 8,
   "metadata": {
    "collapsed": false
   },
   "outputs": [],
   "source": [
    "def errf(params,sub_data):\n",
    "    #get params and bound on [0,1]\n",
    "    k,m = params\n",
    "    k = scipy.stats.logistic.cdf(k)\n",
    "    m = scipy.stats.logistic.cdf(m)*20\n",
    "    LL = 0\n",
    "    for trial in range(sub_data.shape[0]):\n",
    "        SV_SS = hyperbolic(sub_data.loc[trial,'amountSS'],\n",
    "                            0, #delayed rewards available now\n",
    "                            k)\n",
    "        SV_LL = hyperbolic(sub_data.loc[trial,'amountLL'],\n",
    "                            sub_data.loc[trial,'delayLL'],\n",
    "                            k)\n",
    "\n",
    "        p = 1 / (1 + np.exp(-1*(SV_SS-SV_LL)*m) )\n",
    "        if sub_data.loc[trial,'choice'] == 'LL':\n",
    "            p = 1-p\n",
    "            \n",
    "        if p < 1e-100:\n",
    "            p = 1e-100\n",
    "            \n",
    "        LL += np.log(p)\n",
    "    return LL*-1 #minimize negative log likelihood"
   ]
  },
  {
   "cell_type": "code",
   "execution_count": 9,
   "metadata": {
    "collapsed": true
   },
   "outputs": [],
   "source": [
    "in_tuples = list(set(all_data.index))"
   ]
  },
  {
   "cell_type": "code",
   "execution_count": 10,
   "metadata": {
    "collapsed": false
   },
   "outputs": [],
   "source": [
    "def run_data(in_tup):\n",
    "    #get the data for this experiment\n",
    "    sub_data = all_data.loc[in_tup].reset_index().copy()\n",
    "    sub, exp, tms, hemi = in_tup\n",
    "    \n",
    "    #check to see if they made all LL or all SS choices and set k appropriately\n",
    "    if sum(sub_data['choice'] == 'LL') == sub_data.shape[0]: #all larger later\n",
    "        k = min(sub_data['k_eq'])\n",
    "        return in_tup,k\n",
    "    elif sum(sub_data['choice'] == 'SS') == sub_data.shape[0]: #all SS\n",
    "        k = max(sub_data['k_eq'])\n",
    "        return in_tup,k\n",
    "    \n",
    "    #run minimization\n",
    "    else:\n",
    "        k_init = scipy.stats.logistic.ppf(all_data.median()['k_eq'])\n",
    "        m_init = -5\n",
    "        if exp == 'Magnitude':\n",
    "            m_init = scipy.stats.logistic.cdf(m_init)/10.0\n",
    "            m_init = scipy.stats.logistic.ppf(m_init)\n",
    "        params = [k_init,m_init]\n",
    "        minimizer_kwargs = {\"method\": 'CG', 'args':(sub_data)}\n",
    "        try:\n",
    "            res = basinhopping(errf, params, minimizer_kwargs=minimizer_kwargs,niter=50)\n",
    "        except:\n",
    "            return (in_tup,'Failed')\n",
    "        return (in_tup,res)"
   ]
  },
  {
   "cell_type": "markdown",
   "metadata": {},
   "source": [
    "# If running fits, execute the next two cells"
   ]
  },
  {
   "cell_type": "code",
   "execution_count": 11,
   "metadata": {
    "collapsed": false
   },
   "outputs": [],
   "source": [
    "# pool = multiprocessing.Pool(54)\n",
    "# res = pool.map(run_data,in_tuples)\n",
    "# pool.terminate()\n",
    "# pool.join()"
   ]
  },
  {
   "cell_type": "code",
   "execution_count": 12,
   "metadata": {
    "collapsed": false
   },
   "outputs": [],
   "source": [
    "# results_df = {'ll':[], 'k':[], 'm':[],'sub':[],'exp':[],'hemi':[],'tms':[]}\n",
    "# for x in res:\n",
    "#     in_tup,o = x\n",
    "#     sub, exp, tms, hemi = in_tup\n",
    "#     if o == 'Failed':\n",
    "#         print in_tup\n",
    "        \n",
    "#     else:\n",
    "#         results_df['ll'].append(o.fun*-1)\n",
    "#         results_df['k'].append(scipy.stats.logistic.cdf(o.x[0]))\n",
    "#         results_df['m'].append(scipy.stats.logistic.cdf(o.x[1])*20)\n",
    "#         results_df['sub'].append(sub)\n",
    "#         results_df['exp'].append(exp)\n",
    "#         results_df['tms'].append(tms)\n",
    "#         results_df['hemi'].append(hemi)\n",
    "# results_df = pd.DataFrame(results_df)\n",
    "# results_df['logk'] = np.log(results_df['k'])\n",
    "# results_df.to_csv(op.abspath('./k_fits_new.csv'), index = False)\n",
    "# results_df = results_df.set_index(['sub','exp','tms','hemi'])"
   ]
  },
  {
   "cell_type": "markdown",
   "metadata": {},
   "source": [
    "# Analyze Data"
   ]
  },
  {
   "cell_type": "code",
   "execution_count": 467,
   "metadata": {
    "collapsed": false
   },
   "outputs": [],
   "source": [
    "#load data\n",
    "results_df = pd.read_csv(op.abspath('./k_fits_new.csv'))\n",
    "results_df['logk'] = np.log(results_df['k'])\n",
    "results_df['sub_id'] = [str(x) + y for x,y in zip(results_df['sub'],results_df['hemi'])]\n",
    "# results_df = results_df.set_index(['sub','exp','tms','hemi'])\n"
   ]
  },
  {
   "cell_type": "code",
   "execution_count": 412,
   "metadata": {
    "collapsed": false
   },
   "outputs": [],
   "source": [
    "for row in set(all_data.index):\n",
    "    sub, exp, tms, hemi = row\n",
    "    \n",
    "    best_k = results_df.loc[(int(sub),exp,tms,hemi),'k']\n",
    "    min_k = min(all_data.loc[row,'k_eq'])\n",
    "    max_k = max(all_data.loc[row,'k_eq'])\n",
    "\n",
    "    if best_k < min_k:\n",
    "        results_df.loc[(int(sub),exp,tms,hemi),'k'] = min_k\n",
    "    if best_k > max_k:\n",
    "        results_df.loc[(int(sub),exp,tms,hemi),'k'] = max_k\n",
    "results_df = results_df.reset_index()\n",
    "results_df['logk'] = np.log(results_df['k'])"
   ]
  },
  {
   "cell_type": "markdown",
   "metadata": {},
   "source": [
    "## First check out all the data"
   ]
  },
  {
   "cell_type": "code",
   "execution_count": 468,
   "metadata": {
    "collapsed": true
   },
   "outputs": [],
   "source": [
    "def remove_intercept_variance(x, group_mean):\n",
    "    return x - x.mean() + group_mean"
   ]
  },
  {
   "cell_type": "code",
   "execution_count": 469,
   "metadata": {
    "collapsed": true
   },
   "outputs": [],
   "source": [
    "results_df['logk_within'] = results_df.groupby('sub_id').logk.transform(remove_intercept_variance,\n",
    "                                                                  results_df.logk.mean())"
   ]
  },
  {
   "cell_type": "code",
   "execution_count": 470,
   "metadata": {
    "collapsed": false
   },
   "outputs": [
    {
     "data": {
      "text/plain": [
       "<matplotlib.text.Text at 0x128021390>"
      ]
     },
     "execution_count": 470,
     "metadata": {},
     "output_type": "execute_result"
    },
    {
     "data": {
      "image/png": "[encoded data removed]",
      "text/plain": [
       "<matplotlib.figure.Figure at 0x128002d10>"
      ]
     },
     "metadata": {},
     "output_type": "display_data"
    }
   ],
   "source": [
    "sns.barplot(x = 'tms',\n",
    "            y = 'logk_within',\n",
    "            hue = 'exp',\n",
    "            order = ['Pre','Sham','TMS'], \n",
    "            data = results_df)\n",
    "sns.despine()\n",
    "plt.ylabel('log(k)')"
   ]
  },
  {
   "cell_type": "markdown",
   "metadata": {},
   "source": [
    "### Next see if any effects vary by hemisphere"
   ]
  },
  {
   "cell_type": "code",
   "execution_count": 471,
   "metadata": {
    "collapsed": false
   },
   "outputs": [
    {
     "data": {
      "text/plain": [
       "<seaborn.axisgrid.FacetGrid at 0x12e06a4d0>"
      ]
     },
     "execution_count": 471,
     "metadata": {},
     "output_type": "execute_result"
    },
    {
     "data": {
      "image/png": "[encoded data removed]",
      "text/plain": [
       "<matplotlib.figure.Figure at 0x1343201d0>"
      ]
     },
     "metadata": {},
     "output_type": "display_data"
    }
   ],
   "source": [
    "sns.factorplot(x = 'tms',\n",
    "               y = 'logk_within',\n",
    "               hue = 'exp',\n",
    "               col = 'hemi',\n",
    "               order = ['Pre','Sham','TMS'],\n",
    "               data = results_df)"
   ]
  },
  {
   "cell_type": "markdown",
   "metadata": {},
   "source": [
    "## Check out Magnitude Effect"
   ]
  },
  {
   "cell_type": "code",
   "execution_count": 472,
   "metadata": {
    "collapsed": false
   },
   "outputs": [
    {
     "data": {
      "image/png": "[encoded data removed]",
      "text/plain": [
       "<matplotlib.figure.Figure at 0x12866c090>"
      ]
     },
     "metadata": {},
     "output_type": "display_data"
    }
   ],
   "source": [
    "sns.set_context('paper',font_scale = 2,rc={\"figure.figsize\": (7, 8)})\n",
    "sns.set_style(\"white\")\n",
    "mag = results_df[results_df['exp'] != 'Hidden Zero'].copy()\n",
    "mag['logk_within'] = mag.groupby('sub_id').logk.transform(remove_intercept_variance,\n",
    "                                                                  mag.logk.mean())\n",
    "mag['TMS Condition'] = mag['tms']\n",
    "sns.barplot(x = 'TMS Condition',\n",
    "            y = 'logk_within',\n",
    "            hue = 'exp' ,\n",
    "            order = ['Pre','Sham','TMS'],\n",
    "            data = mag)\n",
    "plt.ylabel('Impulsivity')\n",
    "sns.despine()\n",
    "plt.savefig(op.abspath('../fd/figs/committee_meeting/Magnitude.png'), dpi = 300)"
   ]
  },
  {
   "cell_type": "markdown",
   "metadata": {},
   "source": [
    "### First assess whether the effect is significant when comparing to sham"
   ]
  },
  {
   "cell_type": "code",
   "execution_count": 473,
   "metadata": {
    "collapsed": true
   },
   "outputs": [],
   "source": [
    "sham = mag[mag['tms'] !='Pre']"
   ]
  },
  {
   "cell_type": "code",
   "execution_count": 474,
   "metadata": {
    "collapsed": false
   },
   "outputs": [
    {
     "name": "stdout",
     "output_type": "stream",
     "text": [
      "Anova Table (Type 3 tests)\n",
      "\n",
      "Response: logk\n",
      "        Effect    df   MSE         F   ges p.value\n",
      "1         hemi 1, 25 85.17      0.35  .005     .56\n",
      "2          exp 1, 25 48.45 43.75 ***   .27  <.0001\n",
      "3     hemi:exp 1, 25 48.45      0.09 .0007     .77\n",
      "4          tms 1, 25 74.71   9.57 **   .11    .005\n",
      "5     hemi:tms 1, 25 74.71      0.04 .0005     .85\n",
      "6      exp:tms 1, 25 21.30 49.27 ***   .15  <.0001\n",
      "7 hemi:exp:tms 1, 25 21.30      0.71  .003     .41\n",
      "\n",
      "Sphericity correction method: GG \n",
      "\n"
     ]
    }
   ],
   "source": [
    "model = afex.aov_ez('sub_id', 'logk', data = sham, within=['exp','tms'], between = ['hemi'])\n",
    "print(model)"
   ]
  },
  {
   "cell_type": "code",
   "execution_count": 475,
   "metadata": {
    "collapsed": false
   },
   "outputs": [
    {
     "name": "stdout",
     "output_type": "stream",
     "text": [
      "tms right Ttest_relResult(statistic=1.3567303443801471, pvalue=0.20205651181755452)\n",
      "tms left Ttest_relResult(statistic=0.257798958951104, pvalue=0.80031291107642921)\n",
      "tms both Ttest_relResult(statistic=0.69306846180328108, pvalue=0.4944116043253961)\n",
      "mag Ttest_relResult(statistic=-7.8842386145200054, pvalue=2.3223345130670767e-08)\n",
      "mag tms Ttest_relResult(statistic=-2.4004197109644783, pvalue=0.02382814250063945)\n"
     ]
    }
   ],
   "source": [
    "#it looks like this may be a disordinal situation where the interaction\n",
    "#is driving the main effect. Since we are interested in whether we replicated the Figner finding,\n",
    "#conduct some post-hoc t-tests\n",
    "ctrl = sham.set_index(['exp','hemi','tms']).sort_index().loc[('Ctrl','RIGHT')]\n",
    "a = ctrl.loc['Sham'].sort_values(by = 'sub_id')['logk'].values\n",
    "b = ctrl.loc['TMS'].sort_values(by = 'sub_id')['logk'].values\n",
    "print 'tms','right', scipy.stats.ttest_rel(a,b)\n",
    "\n",
    "ctrl = sham.set_index(['exp','hemi','tms']).sort_index().loc[('Ctrl','LEFT')]\n",
    "a = ctrl.loc['Sham'].sort_values(by = 'sub_id')['logk'].values\n",
    "b = ctrl.loc['TMS'].sort_values(by = 'sub_id')['logk'].values\n",
    "print 'tms','left', scipy.stats.ttest_rel(a,b)\n",
    "\n",
    "ctrl = sham.set_index(['exp','tms']).sort_index().loc[('Ctrl')]\n",
    "a = ctrl.loc['Sham'].sort_values(by = 'sub_id')['logk'].values\n",
    "b = ctrl.loc['TMS'].sort_values(by = 'sub_id')['logk'].values\n",
    "print 'tms','both', scipy.stats.ttest_rel(a,b)\n",
    "\n",
    "ctrl = sham.set_index(['tms','exp']).sort_index().loc[('Sham')]\n",
    "a = ctrl.loc['Magnitude'].sort_values(by = 'sub_id')['logk'].values\n",
    "b = ctrl.loc['Ctrl'].sort_values(by = 'sub_id')['logk'].values\n",
    "print 'mag',scipy.stats.ttest_rel(a,b)\n",
    "\n",
    "ctrl = sham.set_index(['tms','exp']).sort_index().loc[('TMS')]\n",
    "a = ctrl.loc['Magnitude'].sort_values(by = 'sub_id')['logk'].values\n",
    "b = ctrl.loc['Ctrl'].sort_values(by = 'sub_id')['logk'].values\n",
    "print 'mag tms',scipy.stats.ttest_rel(a,b)"
   ]
  },
  {
   "cell_type": "code",
   "execution_count": 476,
   "metadata": {
    "collapsed": false
   },
   "outputs": [
    {
     "data": {
      "text/plain": [
       "exp        tms \n",
       "Ctrl       Sham    -3.775735\n",
       "           TMS     -2.468029\n",
       "Magnitude  Sham   -22.265795\n",
       "           TMS     -6.122893\n",
       "Name: logk, dtype: float64"
      ]
     },
     "execution_count": 476,
     "metadata": {},
     "output_type": "execute_result"
    }
   ],
   "source": [
    "ks = sham.groupby(['exp','tms']).median()['logk']\n",
    "ks"
   ]
  },
  {
   "cell_type": "code",
   "execution_count": 477,
   "metadata": {
    "collapsed": false
   },
   "outputs": [
    {
     "name": "stdout",
     "output_type": "stream",
     "text": [
      "26.4176688078\n",
      "2000.00000599\n",
      "43.7304868926\n",
      "2061.37896806\n",
      "0.3\n"
     ]
    }
   ],
   "source": [
    "k = ks.loc[('Ctrl','Sham')]\n",
    "print 20*(1+np.exp(k)*14)\n",
    "k = ks.loc[('Magnitude','Sham')]\n",
    "print 2000*(1+np.exp(k)*14)\n",
    "k = ks.loc[('Ctrl','TMS')]\n",
    "print 20*(1+np.exp(k)*14)\n",
    "k = ks.loc[('Magnitude','TMS')]\n",
    "print 2000*(1+np.exp(k)*14)\n",
    "print (26-20.0)/20.0"
   ]
  },
  {
   "cell_type": "code",
   "execution_count": 478,
   "metadata": {
    "collapsed": false
   },
   "outputs": [
    {
     "data": {
      "text/plain": [
       "3.571428571428178e-05"
      ]
     },
     "execution_count": 478,
     "metadata": {},
     "output_type": "execute_result"
    }
   ],
   "source": [
    "min(all_data.loc[(row),'k_eq'])"
   ]
  },
  {
   "cell_type": "markdown",
   "metadata": {},
   "source": [
    "## Next assess the effect relative to the pre-test"
   ]
  },
  {
   "cell_type": "code",
   "execution_count": 479,
   "metadata": {
    "collapsed": true
   },
   "outputs": [],
   "source": [
    "pre = mag[mag['tms'] !='Sham']"
   ]
  },
  {
   "cell_type": "code",
   "execution_count": 480,
   "metadata": {
    "collapsed": false
   },
   "outputs": [
    {
     "name": "stdout",
     "output_type": "stream",
     "text": [
      "Anova Table (Type 3 tests)\n",
      "\n",
      "Response: logk\n",
      "        Effect    df   MSE          F   ges p.value\n",
      "1         hemi 1, 25 77.20       0.02 .0003     .89\n",
      "2          exp 1, 25 17.46 171.66 ***   .39  <.0001\n",
      "3     hemi:exp 1, 25 17.46       0.08 .0003     .78\n",
      "4          tms 1, 25 71.04  15.50 ***   .19   .0006\n",
      "5     hemi:tms 1, 25 71.04       0.98   .01     .33\n",
      "6      exp:tms 1, 25 18.70  90.35 ***   .27  <.0001\n",
      "7 hemi:exp:tms 1, 25 18.70       2.71   .01     .11\n",
      "\n",
      "Sphericity correction method: GG \n",
      "\n"
     ]
    }
   ],
   "source": [
    "model = afex.aov_ez('sub_id', 'logk', data = pre, within=['exp','tms'], between = ['hemi'])\n",
    "print(model)"
   ]
  },
  {
   "cell_type": "code",
   "execution_count": 481,
   "metadata": {
    "collapsed": false
   },
   "outputs": [
    {
     "name": "stdout",
     "output_type": "stream",
     "text": [
      "tms right Ttest_relResult(statistic=0.55447680614333483, pvalue=0.59034775010739027)\n",
      "tms left Ttest_relResult(statistic=0.78202917517071024, pvalue=0.44722271069611585)\n",
      "tms both Ttest_relResult(statistic=0.97434837792964313, pvalue=0.3388622461016999)\n",
      "mag Ttest_relResult(statistic=-15.574204435069051, pvalue=1.0664619779333989e-14)\n"
     ]
    }
   ],
   "source": [
    "#it looks like this may be a disordinal situation where the interaction\n",
    "#is driving the main effect. Since we are interested in whether we replicated the Figner finding,\n",
    "#conduct some post-hoc t-tests\n",
    "ctrl = pre.set_index(['exp','hemi','tms']).sort_index().loc[('Ctrl','RIGHT')]\n",
    "a = ctrl.loc['Pre'].sort_values(by = 'sub_id')['logk'].values\n",
    "b = ctrl.loc['TMS'].sort_values(by = 'sub_id')['logk'].values\n",
    "print 'tms','right', scipy.stats.ttest_rel(a,b)\n",
    "\n",
    "ctrl = pre.set_index(['exp','hemi','tms']).sort_index().loc[('Ctrl','LEFT')]\n",
    "a = ctrl.loc['Pre'].sort_values(by = 'sub_id')['logk'].values\n",
    "b = ctrl.loc['TMS'].sort_values(by = 'sub_id')['logk'].values\n",
    "print 'tms','left', scipy.stats.ttest_rel(a,b)\n",
    "\n",
    "ctrl = pre.set_index(['exp','tms']).sort_index().loc[('Ctrl')]\n",
    "a = ctrl.loc['Pre'].sort_values(by = 'sub_id')['logk'].values\n",
    "b = ctrl.loc['TMS'].sort_values(by = 'sub_id')['logk'].values\n",
    "print 'tms','both', scipy.stats.ttest_rel(a,b)\n",
    "\n",
    "ctrl = pre.set_index(['tms','exp']).sort_index().loc[('Pre')]\n",
    "a = ctrl.loc['Magnitude'].sort_values(by = 'sub_id')['logk'].values\n",
    "b = ctrl.loc['Ctrl'].sort_values(by = 'sub_id')['logk'].values\n",
    "print 'mag',scipy.stats.ttest_rel(a,b)"
   ]
  },
  {
   "cell_type": "markdown",
   "metadata": {},
   "source": [
    "## Check out Hidden Zero effect"
   ]
  },
  {
   "cell_type": "code",
   "execution_count": 489,
   "metadata": {
    "collapsed": false
   },
   "outputs": [
    {
     "data": {
      "image/png": "[encoded data removed]",
      "text/plain": [
       "<matplotlib.figure.Figure at 0x12869fd10>"
      ]
     },
     "metadata": {},
     "output_type": "display_data"
    }
   ],
   "source": [
    "sns.set_context('paper',font_scale = 2,rc={\"figure.figsize\": (7, 8)})\n",
    "sns.set_style(\"white\")\n",
    "hz = results_df[results_df['exp'] != 'Magnitude'].copy()\n",
    "hz['logk_within'] = hz.groupby('sub_id').logk.transform(remove_intercept_variance,\n",
    "                                                                  hz.logk.mean())\n",
    "hz['TMS Condition'] = hz['tms']\n",
    "sns.factorplot(x = 'TMS Condition',\n",
    "            y = 'logk_within',\n",
    "            hue = 'exp' ,\n",
    "            order = ['Pre','Sham','TMS'],\n",
    "            data = hz)\n",
    "plt.ylabel('Impulsivity')\n",
    "sns.despine()\n",
    "plt.savefig(op.abspath('../fd/figs/committee_meeting/Hidden_Zero.png'), dpi = 300)"
   ]
  },
  {
   "cell_type": "markdown",
   "metadata": {},
   "source": [
    "### First assess whether the effect is significant when comparing to sham"
   ]
  },
  {
   "cell_type": "code",
   "execution_count": 483,
   "metadata": {
    "collapsed": true
   },
   "outputs": [],
   "source": [
    "sham = hz[hz['tms'] !='Pre']"
   ]
  },
  {
   "cell_type": "code",
   "execution_count": 484,
   "metadata": {
    "collapsed": false
   },
   "outputs": [
    {
     "name": "stdout",
     "output_type": "stream",
     "text": [
      "Anova Table (Type 3 tests)\n",
      "\n",
      "Response: logk\n",
      "        Effect    df    MSE      F    ges p.value\n",
      "1         hemi 1, 25 141.09   0.12   .003     .73\n",
      "2          exp 1, 25  28.25 7.00 *    .03     .01\n",
      "3     hemi:exp 1, 25  28.25   0.02 <.0001     .90\n",
      "4          tms 1, 25  59.10   0.02  .0001     .90\n",
      "5     hemi:tms 1, 25  59.10   0.07  .0006     .79\n",
      "6      exp:tms 1, 25  28.55   0.77   .003     .39\n",
      "7 hemi:exp:tms 1, 25  28.55   0.00 <.0001     .98\n",
      "\n",
      "Sphericity correction method: GG \n",
      "\n"
     ]
    }
   ],
   "source": [
    "model = afex.aov_ez('sub_id', 'logk', data = sham, within=['exp','tms'], between = ['hemi'])\n",
    "print(model)"
   ]
  },
  {
   "cell_type": "code",
   "execution_count": 485,
   "metadata": {
    "collapsed": false
   },
   "outputs": [
    {
     "name": "stdout",
     "output_type": "stream",
     "text": [
      "hidden zero Ttest_relResult(statistic=-1.9379668985442868, pvalue=0.063558773528699042)\n"
     ]
    }
   ],
   "source": [
    "#it looks like this may be a disordinal situation where the interaction\n",
    "#is driving the main effect. Since we are interested in whether we replicated the Figner finding,\n",
    "#conduct some post-hoc t-tests\n",
    "ctrl = sham.set_index(['tms','exp']).sort_index().loc[('Sham')]\n",
    "a = ctrl.loc['Hidden Zero'].sort_values(by = 'sub_id')['logk'].values\n",
    "b = ctrl.loc['Ctrl'].sort_values(by = 'sub_id')['logk'].values\n",
    "print 'hidden zero',scipy.stats.ttest_rel(a,b)"
   ]
  },
  {
   "cell_type": "markdown",
   "metadata": {},
   "source": [
    "### Next assess the effect relative to the pre-test"
   ]
  },
  {
   "cell_type": "code",
   "execution_count": 486,
   "metadata": {
    "collapsed": true
   },
   "outputs": [],
   "source": [
    "pre = hz[hz['tms'] !='Sham']"
   ]
  },
  {
   "cell_type": "code",
   "execution_count": 487,
   "metadata": {
    "collapsed": false
   },
   "outputs": [
    {
     "name": "stdout",
     "output_type": "stream",
     "text": [
      "Anova Table (Type 3 tests)\n",
      "\n",
      "Response: logk\n",
      "        Effect    df    MSE         F   ges p.value\n",
      "1         hemi 1, 25 122.35      0.22  .005     .64\n",
      "2          exp 1, 25  18.80 18.82 ***   .06   .0002\n",
      "3     hemi:exp 1, 25  18.80      1.46  .005     .24\n",
      "4          tms 1, 25  55.34      0.04 .0004     .84\n",
      "5     hemi:tms 1, 25  55.34      0.97  .010     .33\n",
      "6      exp:tms 1, 25  17.36    5.13 *   .02     .03\n",
      "7 hemi:exp:tms 1, 25  17.36      2.13  .007     .16\n",
      "\n",
      "Sphericity correction method: GG \n",
      "\n"
     ]
    }
   ],
   "source": [
    "model = afex.aov_ez('sub_id', 'logk', data = pre, within=['exp','tms'], between = ['hemi'])\n",
    "print(model)"
   ]
  },
  {
   "cell_type": "code",
   "execution_count": 488,
   "metadata": {
    "collapsed": false
   },
   "outputs": [
    {
     "name": "stdout",
     "output_type": "stream",
     "text": [
      "hidden zero Ttest_relResult(statistic=-3.4857239699456009, pvalue=0.0017588251875621996)\n"
     ]
    }
   ],
   "source": [
    "#it looks like this may be a disordinal situation where the interaction\n",
    "#is driving the main effect. Since we are interested in whether we replicated the Figner finding,\n",
    "#conduct some post-hoc t-tests\n",
    "ctrl = pre.set_index(['tms','exp']).sort_index().loc[('Pre')]\n",
    "a = ctrl.loc['Hidden Zero'].sort_values(by = 'sub_id')['logk'].values\n",
    "b = ctrl.loc['Ctrl'].sort_values(by = 'sub_id')['logk'].values\n",
    "print 'hidden zero',scipy.stats.ttest_rel(a,b)"
   ]
  },
  {
   "cell_type": "markdown",
   "metadata": {},
   "source": [
    "# Percent SS Analysis"
   ]
  },
  {
   "cell_type": "code",
   "execution_count": 82,
   "metadata": {
    "collapsed": false
   },
   "outputs": [],
   "source": [
    "perc_df =all_data.reset_index().groupby(['sub','stim','cond','hemi']).mean().reset_index()\n",
    "perc_df['sub_id'] = [str(x) + y for x,y in zip(perc_df['sub'],perc_df['hemi'])]\n",
    "perc_df['choice_binary_logit'] = [scipy.special.logit(x) for x in perc_df['choice_binary']]"
   ]
  },
  {
   "cell_type": "code",
   "execution_count": 83,
   "metadata": {
    "collapsed": false,
    "scrolled": true
   },
   "outputs": [
    {
     "data": {
      "text/plain": [
       "<matplotlib.text.Text at 0x12d360f10>"
      ]
     },
     "execution_count": 83,
     "metadata": {},
     "output_type": "execute_result"
    },
    {
     "data": {
      "image/png": "[encoded data removed]",
      "text/plain": [
       "<matplotlib.figure.Figure at 0x12d308e50>"
      ]
     },
     "metadata": {},
     "output_type": "display_data"
    }
   ],
   "source": [
    "sns.barplot(x = 'stim', y = 'choice_binary',hue = 'cond' , data = perc_df)\n",
    "plt.ylabel('p(SS)')"
   ]
  },
  {
   "cell_type": "markdown",
   "metadata": {},
   "source": [
    "# Figner replication"
   ]
  },
  {
   "cell_type": "code",
   "execution_count": 115,
   "metadata": {
    "collapsed": false
   },
   "outputs": [],
   "source": [
    "ctrl = perc_df[perc_df['cond'] == 'Ctrl']\n",
    "sham = ctrl[ctrl['stim'] != 'Pre']\n",
    "pre = ctrl[ctrl['stim'] != 'Sham']"
   ]
  },
  {
   "cell_type": "code",
   "execution_count": 116,
   "metadata": {
    "collapsed": false
   },
   "outputs": [
    {
     "name": "stdout",
     "output_type": "stream",
     "text": [
      "Anova Table (Type 3 tests)\n",
      "\n",
      "Response: choice_binary_logit\n",
      "     Effect    df  MSE      F  ges p.value\n",
      "1      hemi 1, 25 0.61   0.90  .02     .35\n",
      "2      stim 1, 25 0.46 4.30 *  .07     .05\n",
      "3 hemi:stim 1, 25 0.46   0.23 .004     .64\n",
      "\n",
      "Sphericity correction method: GG \n",
      "\n"
     ]
    }
   ],
   "source": [
    "model = afex.aov_ez('sub_id', 'choice_binary_logit', \n",
    "                    data = pre, within=['stim'], between = ['hemi'])\n",
    "print(model)"
   ]
  },
  {
   "cell_type": "code",
   "execution_count": 118,
   "metadata": {
    "collapsed": false
   },
   "outputs": [
    {
     "name": "stdout",
     "output_type": "stream",
     "text": [
      "Anova Table (Type 3 tests)\n",
      "\n",
      "Response: choice_binary_logit\n",
      "     Effect    df  MSE      F   ges p.value\n",
      "1      hemi 1, 25 0.86   0.02 .0005     .90\n",
      "2      stim 1, 25 0.27 5.93 *   .05     .02\n",
      "3 hemi:stim 1, 25 0.27   0.33  .003     .57\n",
      "\n",
      "Sphericity correction method: GG \n",
      "\n"
     ]
    }
   ],
   "source": [
    "model = afex.aov_ez('sub_id', 'choice_binary_logit', \n",
    "                    data = sham, within=['stim'], between = ['hemi'])\n",
    "print(model)"
   ]
  },
  {
   "cell_type": "markdown",
   "metadata": {},
   "source": [
    "## Next perform decision difficulty analysis"
   ]
  },
  {
   "cell_type": "code",
   "execution_count": 236,
   "metadata": {
    "collapsed": false
   },
   "outputs": [],
   "source": [
    "a = all_data.reset_index()\n",
    "a['sub_id'] = [str(x) + y for x,y in zip(a['sub'],a['hemi'])]\n",
    "a['diff'] = (a['amountLL'] - a['amountSS'])/a['amountSS']\n",
    "\n",
    "ctrl = a[a['cond'] == 'Ctrl']\n",
    "sham = ctrl[ctrl['stim'] != 'Pre']\n",
    "pre = ctrl[ctrl['stim'] != 'Sham']"
   ]
  },
  {
   "cell_type": "code",
   "execution_count": 237,
   "metadata": {
    "collapsed": false
   },
   "outputs": [
    {
     "name": "stdout",
     "output_type": "stream",
     "text": [
      "The rpy2.ipython extension is already loaded. To reload it, use:\n",
      "  %reload_ext rpy2.ipython\n"
     ]
    }
   ],
   "source": [
    "%load_ext rpy2.ipython"
   ]
  },
  {
   "cell_type": "code",
   "execution_count": 238,
   "metadata": {
    "collapsed": false,
    "scrolled": true
   },
   "outputs": [
    {
     "name": "stdout",
     "output_type": "stream",
     "text": [
      "Generalized linear mixed model fit by maximum likelihood (Laplace\n",
      "  Approximation) [glmerMod]\n",
      " Family: binomial  ( logit )\n",
      "Formula: choice_binary ~ stim * diff + (1 + stim + diff | sub_id)\n",
      "   Data: pre\n",
      "\n",
      "     AIC      BIC   logLik deviance df.resid \n",
      "  1443.6   1493.4   -711.8   1423.6     1071 \n",
      "\n",
      "Scaled residuals: \n",
      "    Min      1Q  Median      3Q     Max \n",
      "-2.1174 -1.1184  0.5814  0.8744  1.4915 \n",
      "\n",
      "Random effects:\n",
      " Groups Name        Variance Std.Dev. Corr       \n",
      " sub_id (Intercept) 0.007264 0.08523             \n",
      "        stimTMS     0.416257 0.64518  -1.00      \n",
      "        diff        0.578833 0.76081  -1.00  1.00\n",
      "Number of obs: 1081, groups:  sub_id, 27\n",
      "\n",
      "Fixed effects:\n",
      "             Estimate Std. Error z value Pr(>|z|)  \n",
      "(Intercept)   0.26443    0.14201   1.862   0.0626 .\n",
      "stimTMS       0.36889    0.24223   1.523   0.1278  \n",
      "diff         -0.17753    0.55054  -0.322   0.7471  \n",
      "stimTMS:diff  0.05296    0.78844   0.067   0.9464  \n",
      "---\n",
      "Signif. codes:  0 ‘***’ 0.001 ‘**’ 0.01 ‘*’ 0.05 ‘.’ 0.1 ‘ ’ 1\n",
      "\n",
      "Correlation of Fixed Effects:\n",
      "            (Intr) stmTMS diff  \n",
      "stimTMS     -0.638              \n",
      "diff        -0.786  0.579       \n",
      "stimTMS:dff  0.527 -0.673 -0.648\n",
      "convergence code: 0\n",
      "Model failed to converge with max|grad| = 0.00141905 (tol = 0.001, component 1)\n",
      "\n",
      "\n"
     ]
    }
   ],
   "source": [
    "%R -i pre\n",
    "%R resp_lmer <- glmer(choice_binary ~ stim*diff + (1 + stim + diff | sub_id),family = binomial(), data = pre)\n",
    "%R -o res res = summary(resp_lmer)\n",
    "%R -o exp_res exp_res = exp(fixef(resp_lmer))\n",
    "print res"
   ]
  },
  {
   "cell_type": "code",
   "execution_count": 239,
   "metadata": {
    "collapsed": false
   },
   "outputs": [
    {
     "name": "stdout",
     "output_type": "stream",
     "text": [
      "Generalized linear mixed model fit by maximum likelihood (Laplace\n",
      "  Approximation) [glmerMod]\n",
      " Family: binomial  ( logit )\n",
      "Formula: choice_binary ~ stim * diff + (1 + stim + diff | sub_id)\n",
      "   Data: sham\n",
      "\n",
      "     AIC      BIC   logLik deviance df.resid \n",
      "  1434.2   1484.0   -707.1   1414.2     1070 \n",
      "\n",
      "Scaled residuals: \n",
      "    Min      1Q  Median      3Q     Max \n",
      "-2.5368 -1.0773  0.6086  0.8256  1.3059 \n",
      "\n",
      "Random effects:\n",
      " Groups Name        Variance Std.Dev. Corr       \n",
      " sub_id (Intercept) 0.101416 0.31846             \n",
      "        stimTMS     0.173095 0.41605   1.00      \n",
      "        diff        0.001852 0.04304  -1.00 -1.00\n",
      "Number of obs: 1080, groups:  sub_id, 27\n",
      "\n",
      "Fixed effects:\n",
      "             Estimate Std. Error z value Pr(>|z|)  \n",
      "(Intercept)    0.1960     0.1549   1.265   0.2058  \n",
      "stimTMS        0.4659     0.2252   2.069   0.0385 *\n",
      "diff           0.3018     0.5378   0.561   0.5746  \n",
      "stimTMS:diff  -0.5488     0.7887  -0.696   0.4866  \n",
      "---\n",
      "Signif. codes:  0 ‘***’ 0.001 ‘**’ 0.01 ‘*’ 0.05 ‘.’ 0.1 ‘ ’ 1\n",
      "\n",
      "Correlation of Fixed Effects:\n",
      "            (Intr) stmTMS diff  \n",
      "stimTMS     -0.438              \n",
      "diff        -0.728  0.489       \n",
      "stimTMS:dff  0.491 -0.735 -0.679\n",
      "convergence code: 0\n",
      "Model failed to converge with max|grad| = 0.00539456 (tol = 0.001, component 1)\n",
      "\n",
      "\n"
     ]
    }
   ],
   "source": [
    "%R -i sham\n",
    "%R resp_lmer <- glmer(choice_binary ~ stim*diff + (1 + stim + diff| sub_id),family = binomial(), data = sham)\n",
    "%R -o res res = summary(resp_lmer)\n",
    "%R -o exp_res exp_res = exp(fixef(resp_lmer))\n",
    "print res"
   ]
  },
  {
   "cell_type": "markdown",
   "metadata": {},
   "source": [
    "# now test magnitude effect"
   ]
  },
  {
   "cell_type": "code",
   "execution_count": 233,
   "metadata": {
    "collapsed": false
   },
   "outputs": [],
   "source": [
    "mag = a[a['cond'] == 'Magnitude']\n",
    "sham = mag[mag['stim'] != 'Pre']\n",
    "pre = mag[mag['stim'] != 'Sham']"
   ]
  },
  {
   "cell_type": "code",
   "execution_count": 234,
   "metadata": {
    "collapsed": false
   },
   "outputs": [
    {
     "name": "stdout",
     "output_type": "stream",
     "text": [
      "Generalized linear mixed model fit by maximum likelihood (Laplace\n",
      "  Approximation) [glmerMod]\n",
      " Family: binomial  ( logit )\n",
      "Formula: choice_binary ~ stim * diff + (1 + stim + diff | sub_id)\n",
      "   Data: pre\n",
      "\n",
      "     AIC      BIC   logLik deviance df.resid \n",
      "  1283.9   1333.7   -631.9   1263.9     1070 \n",
      "\n",
      "Scaled residuals: \n",
      "    Min      1Q  Median      3Q     Max \n",
      "-2.7002 -0.6699 -0.4794  0.6790  2.3466 \n",
      "\n",
      "Random effects:\n",
      " Groups Name        Variance Std.Dev. Corr       \n",
      " sub_id (Intercept)  0.06068 0.2463              \n",
      "        stimTMS      1.26969 1.1268   -1.00      \n",
      "        diff        88.29122 9.3963   -1.00  1.00\n",
      "Number of obs: 1080, groups:  sub_id, 27\n",
      "\n",
      "Fixed effects:\n",
      "             Estimate Std. Error z value Pr(>|z|)    \n",
      "(Intercept)   -0.5788     0.1583  -3.656 0.000256 ***\n",
      "stimTMS        1.3954     0.3114   4.482  7.4e-06 ***\n",
      "diff         -17.8386     6.4293  -2.775 0.005528 ** \n",
      "stimTMS:diff  14.6998     8.7957   1.671 0.094673 .  \n",
      "---\n",
      "Signif. codes:  0 ‘***’ 0.001 ‘**’ 0.01 ‘*’ 0.05 ‘.’ 0.1 ‘ ’ 1\n",
      "\n",
      "Correlation of Fixed Effects:\n",
      "            (Intr) stmTMS diff  \n",
      "stimTMS     -0.672              \n",
      "diff        -0.788  0.557       \n",
      "stimTMS:dff  0.514 -0.552 -0.676\n",
      "\n"
     ]
    }
   ],
   "source": [
    "%R -i pre\n",
    "%R resp_lmer <- glmer(choice_binary ~ stim*diff + (1 + stim + diff| sub_id),family = binomial(), data = pre)\n",
    "%R -o res res = summary(resp_lmer)\n",
    "%R -o exp_res exp_res = exp(fixef(resp_lmer))\n",
    "print res"
   ]
  },
  {
   "cell_type": "code",
   "execution_count": 235,
   "metadata": {
    "collapsed": false
   },
   "outputs": [
    {
     "name": "stdout",
     "output_type": "stream",
     "text": [
      "Generalized linear mixed model fit by maximum likelihood (Laplace\n",
      "  Approximation) [glmerMod]\n",
      " Family: binomial  ( logit )\n",
      "Formula: choice_binary ~ stim * diff + (1 + stim + diff | sub_id)\n",
      "   Data: sham\n",
      "\n",
      "     AIC      BIC   logLik deviance df.resid \n",
      "  1331.8   1381.6   -655.9   1311.8     1070 \n",
      "\n",
      "Scaled residuals: \n",
      "    Min      1Q  Median      3Q     Max \n",
      "-2.8085 -0.7367 -0.5151  0.7350  1.8110 \n",
      "\n",
      "Random effects:\n",
      " Groups Name        Variance Std.Dev. Corr       \n",
      " sub_id (Intercept)  0.07514 0.2741              \n",
      "        stimTMS      1.36403 1.1679   -0.81      \n",
      "        diff        32.72079 5.7202   -0.97  0.93\n",
      "Number of obs: 1080, groups:  sub_id, 27\n",
      "\n",
      "Fixed effects:\n",
      "             Estimate Std. Error z value Pr(>|z|)    \n",
      "(Intercept)   -0.4474     0.1571  -2.849  0.00439 ** \n",
      "stimTMS        1.2841     0.3171   4.049 5.14e-05 ***\n",
      "diff         -12.7464     5.9146  -2.155  0.03116 *  \n",
      "stimTMS:diff   8.8164     8.5717   1.029  0.30369    \n",
      "---\n",
      "Signif. codes:  0 ‘***’ 0.001 ‘**’ 0.01 ‘*’ 0.05 ‘.’ 0.1 ‘ ’ 1\n",
      "\n",
      "Correlation of Fixed Effects:\n",
      "            (Intr) stmTMS diff  \n",
      "stimTMS     -0.636              \n",
      "diff        -0.782  0.486       \n",
      "stimTMS:dff  0.503 -0.550 -0.675\n",
      "\n"
     ]
    }
   ],
   "source": [
    "%R -i sham\n",
    "%R resp_lmer <- glmer(choice_binary ~ stim*diff + (1 + stim + diff| sub_id),family = binomial(), data = sham)\n",
    "%R -o res res = summary(resp_lmer)\n",
    "%R -o exp_res exp_res = exp(fixef(resp_lmer))\n",
    "print res"
   ]
  },
  {
   "cell_type": "markdown",
   "metadata": {},
   "source": [
    "### Sham"
   ]
  },
  {
   "cell_type": "code",
   "execution_count": 71,
   "metadata": {
    "collapsed": false,
    "scrolled": false
   },
   "outputs": [
    {
     "name": "stdout",
     "output_type": "stream",
     "text": [
      "                   Mixed Linear Model Regression Results\n",
      "==========================================================================\n",
      "Model:               MixedLM    Dependent Variable:    choice_binary_logit\n",
      "No. Observations:    90         Method:                REML               \n",
      "No. Groups:          15         Scale:                 0.3356             \n",
      "Min. group size:     6          Likelihood:            -91.4188           \n",
      "Max. group size:     6          Converged:             Yes                \n",
      "Mean group size:     6.0                                                  \n",
      "--------------------------------------------------------------------------\n",
      "                                Coef.  Std.Err.   z    P>|z| [0.025 0.975]\n",
      "--------------------------------------------------------------------------\n",
      "Intercept                        0.189    0.185  1.021 0.307 -0.173  0.551\n",
      "stim[T.TMS]                      0.375    0.212  1.774 0.076 -0.039  0.790\n",
      "cond[T.Hidden Zero]             -0.290    0.212 -1.372 0.170 -0.705  0.124\n",
      "cond[T.Magnitude]               -0.942    0.212 -4.452 0.000 -1.356 -0.527\n",
      "stim[T.TMS]:cond[T.Hidden Zero]  0.114    0.299  0.380 0.704 -0.473  0.700\n",
      "stim[T.TMS]:cond[T.Magnitude]    1.134    0.299  3.789 0.000  0.547  1.720\n",
      "Intercept RE                     0.176    0.173                           \n",
      "==========================================================================\n",
      "\n"
     ]
    }
   ],
   "source": [
    "#Mixed model relative to Sham\n",
    "sub_df = perc_df[perc_df['stim'] !='Pre']\n",
    "model_str = 'choice_binary_logit ~ stim*cond'\n",
    "mixedfx = smf.mixedlm(model_str, sub_df, groups = sub_df['sub'])    \n",
    "mixedfx = mixedfx.fit()\n",
    "print mixedfx.summary()"
   ]
  },
  {
   "cell_type": "code",
   "execution_count": 251,
   "metadata": {
    "collapsed": false
   },
   "outputs": [
    {
     "name": "stdout",
     "output_type": "stream",
     "text": [
      "                  Mixed Linear Model Regression Results\n",
      "========================================================================\n",
      "Model:                 MixedLM     Dependent Variable:     choice_binary\n",
      "No. Observations:      60          Method:                 REML         \n",
      "No. Groups:            15          Scale:                  0.0116       \n",
      "Min. group size:       4           Likelihood:             35.6399      \n",
      "Max. group size:       4           Converged:              Yes          \n",
      "Mean group size:       4.0                                              \n",
      "------------------------------------------------------------------------\n",
      "                              Coef.  Std.Err.   z    P>|z| [0.025 0.975]\n",
      "------------------------------------------------------------------------\n",
      "Intercept                     -0.070    0.031 -2.286 0.022 -0.130 -0.010\n",
      "stim[T.TMS]                    0.032    0.039  0.806 0.420 -0.045  0.109\n",
      "cond[T.Magnitude]             -0.148    0.039 -3.778 0.000 -0.225 -0.071\n",
      "stim[T.TMS]:cond[T.Magnitude]  0.210    0.056  3.782 0.000  0.101  0.319\n",
      "Intercept RE                   0.002    0.023                           \n",
      "========================================================================\n",
      "\n"
     ]
    },
    {
     "name": "stderr",
     "output_type": "stream",
     "text": [
      "/home/iballard/.local/lib/python2.7/site-packages/statsmodels/regression/mixed_linear_model.py:1717: ConvergenceWarning: The MLE may be on the boundary of the parameter space.\n",
      "  warnings.warn(msg, ConvergenceWarning)\n"
     ]
    }
   ],
   "source": [
    "s = sub_df.set_index(['cond','stim','sub']).copy()\n",
    "s.loc[('Magnitude','TMS'),'choice_binary'] = (s.loc[('Magnitude','TMS'),'choice_binary'] \\\n",
    "    - s.loc[('Ctrl','TMS'),'choice_binary']).values\n",
    "s.loc[('Hidden Zero','TMS'),'choice_binary'] = (s.loc[('Hidden Zero','TMS'),'choice_binary'] \\\n",
    "    - s.loc[('Ctrl','TMS'),'choice_binary']).values\n",
    "s.loc[('Magnitude','Sham'),'choice_binary'] = (s.loc[('Magnitude','Sham'),'choice_binary'] \\\n",
    "    - s.loc[('Ctrl','Sham'),'choice_binary']).values\n",
    "s.loc[('Hidden Zero','Sham'),'choice_binary'] = (s.loc[('Hidden Zero','Sham'),'choice_binary'] \\\n",
    "    - s.loc[('Ctrl','Sham'),'choice_binary']).values\n",
    "\n",
    "s = s.reset_index()\n",
    "s = s[s['cond'] != 'Ctrl']\n",
    "\n",
    "# sns.barplot(x = 'stim', y = 'choice_binary',hue = 'cond' , data = s.reset_index())\n",
    "\n",
    "model_str = 'choice_binary ~ stim*cond'\n",
    "mixedfx = smf.mixedlm(model_str, s, groups = s['sub'])    \n",
    "mixedfx = mixedfx.fit()\n",
    "print mixedfx.summary()"
   ]
  },
  {
   "cell_type": "markdown",
   "metadata": {},
   "source": [
    "### Pre"
   ]
  },
  {
   "cell_type": "code",
   "execution_count": 254,
   "metadata": {
    "collapsed": false,
    "scrolled": true
   },
   "outputs": [
    {
     "name": "stdout",
     "output_type": "stream",
     "text": [
      "                   Mixed Linear Model Regression Results\n",
      "==========================================================================\n",
      "Model:               MixedLM    Dependent Variable:    choice_binary_logit\n",
      "No. Observations:    90         Method:                REML               \n",
      "No. Groups:          15         Scale:                 0.3401             \n",
      "Min. group size:     6          Likelihood:            -90.5671           \n",
      "Max. group size:     6          Converged:             Yes                \n",
      "Mean group size:     6.0                                                  \n",
      "--------------------------------------------------------------------------\n",
      "                                Coef.  Std.Err.   z    P>|z| [0.025 0.975]\n",
      "--------------------------------------------------------------------------\n",
      "Intercept                        0.230    0.178  1.291 0.197 -0.119  0.579\n",
      "stim[T.TMS]                      0.334    0.213  1.568 0.117 -0.083  0.751\n",
      "cond[T.Hidden Zero]             -0.362    0.213 -1.702 0.089 -0.780  0.055\n",
      "cond[T.Magnitude]               -1.159    0.213 -5.441 0.000 -1.576 -0.741\n",
      "stim[T.TMS]:cond[T.Hidden Zero]  0.186    0.301  0.617 0.537 -0.404  0.776\n",
      "stim[T.TMS]:cond[T.Magnitude]    1.350    0.301  4.484 0.000  0.760  1.941\n",
      "Intercept RE                     0.136    0.143                           \n",
      "==========================================================================\n",
      "\n"
     ]
    }
   ],
   "source": [
    "#Mixed model relative to Pre\n",
    "sub_df = perc_df[perc_df['stim'] !='Sham']\n",
    "model_str = 'choice_binary_logit ~ stim*cond'\n",
    "mixedfx = smf.mixedlm(model_str, sub_df, groups = sub_df['sub'])    \n",
    "mixedfx = mixedfx.fit()\n",
    "print mixedfx.summary()"
   ]
  },
  {
   "cell_type": "code",
   "execution_count": 257,
   "metadata": {
    "collapsed": false
   },
   "outputs": [
    {
     "name": "stdout",
     "output_type": "stream",
     "text": [
      "                  Mixed Linear Model Regression Results\n",
      "========================================================================\n",
      "Model:               MixedLM   Dependent Variable:   choice_binary_logit\n",
      "No. Observations:    60        Method:               REML               \n",
      "No. Groups:          15        Scale:                0.4051             \n",
      "Min. group size:     4         Likelihood:           -66.5473           \n",
      "Max. group size:     4         Converged:            Yes                \n",
      "Mean group size:     4.0                                                \n",
      "------------------------------------------------------------------------\n",
      "                              Coef.  Std.Err.   z    P>|z| [0.025 0.975]\n",
      "------------------------------------------------------------------------\n",
      "Intercept                     -0.132    0.196 -0.675 0.500 -0.517  0.252\n",
      "stim[T.TMS]                    0.520    0.232  2.237 0.025  0.064  0.975\n",
      "cond[T.Magnitude]             -0.796    0.232 -3.426 0.001 -1.252 -0.341\n",
      "stim[T.TMS]:cond[T.Magnitude]  1.164    0.329  3.543 0.000  0.520  1.809\n",
      "Intercept RE                   0.173    0.198                           \n",
      "========================================================================\n",
      "\n"
     ]
    }
   ],
   "source": [
    "s = sub_df.set_index(['cond','stim','sub']).copy()\n",
    "s.loc[('Magnitude','TMS'),'choice_binary'] = (s.loc[('Magnitude','TMS'),'choice_binary'] \\\n",
    "    - s.loc[('Ctrl','TMS'),'choice_binary']).values\n",
    "s.loc[('Hidden Zero','TMS'),'choice_binary'] = (s.loc[('Hidden Zero','TMS'),'choice_binary'] \\\n",
    "    - s.loc[('Ctrl','TMS'),'choice_binary']).values\n",
    "s.loc[('Magnitude','Pre'),'choice_binary'] = (s.loc[('Magnitude','Pre'),'choice_binary'] \\\n",
    "    - s.loc[('Ctrl','Pre'),'choice_binary']).values\n",
    "s.loc[('Hidden Zero','Pre'),'choice_binary'] = (s.loc[('Hidden Zero','Pre'),'choice_binary'] \\\n",
    "    - s.loc[('Ctrl','Pre'),'choice_binary']).values\n",
    "\n",
    "s = s.reset_index()\n",
    "s = s[s['cond'] != 'Ctrl']\n",
    "\n",
    "# sns.barplot(x = 'stim', y = 'choice_binary',hue = 'cond' , data = s.reset_index())\n",
    "\n",
    "model_str = 'choice_binary_logit ~ stim*cond'\n",
    "mixedfx = smf.mixedlm(model_str, s, groups = s['sub'])    \n",
    "mixedfx = mixedfx.fit()\n",
    "print mixedfx.summary()"
   ]
  },
  {
   "cell_type": "code",
   "execution_count": 207,
   "metadata": {
    "collapsed": false
   },
   "outputs": [],
   "source": [
    "import patsy\n",
    "model_str = 'choice_binary ~ stim*cond'\n",
    "\n",
    "y, X = patsy.dmatrices(model_str,s, return_type='dataframe')"
   ]
  },
  {
   "cell_type": "code",
   "execution_count": 225,
   "metadata": {
    "collapsed": false
   },
   "outputs": [
    {
     "data": {
      "text/plain": [
       "['Intercept',\n",
       " 'tms[T.TMS]',\n",
       " 'exp[T.Hidden Zero]',\n",
       " 'exp[T.Magnitude]',\n",
       " 'tms[T.TMS]:exp[T.Hidden Zero]',\n",
       " 'tms[T.TMS]:exp[T.Magnitude]']"
      ]
     },
     "execution_count": 225,
     "metadata": {},
     "output_type": "execute_result"
    }
   ],
   "source": [
    "mixedfx.model.exog_names"
   ]
  },
  {
   "cell_type": "code",
   "execution_count": 261,
   "metadata": {
    "collapsed": false
   },
   "outputs": [
    {
     "data": {
      "text/plain": [
       "<matplotlib.axes._subplots.AxesSubplot at 0x7ffa24a507d0>"
      ]
     },
     "execution_count": 261,
     "metadata": {},
     "output_type": "execute_result"
    },
    {
     "data": {
      "image/png": "[encoded data removed]",
      "text/plain": [
       "<matplotlib.figure.Figure at 0x7ffa24a5aad0>"
      ]
     },
     "metadata": {},
     "output_type": "display_data"
    }
   ],
   "source": [
    "sns.distplot(perc_df['choice_binary'])"
   ]
  },
  {
   "cell_type": "code",
   "execution_count": 302,
   "metadata": {
    "collapsed": false
   },
   "outputs": [
    {
     "data": {
      "text/plain": [
       "<matplotlib.text.Text at 0x7ffa1b7c4a90>"
      ]
     },
     "execution_count": 302,
     "metadata": {},
     "output_type": "execute_result"
    },
    {
     "data": {
      "image/png": "[encoded data removed]",
      "text/plain": [
       "<matplotlib.figure.Figure at 0x7ffa1b7bc2d0>"
      ]
     },
     "metadata": {},
     "output_type": "display_data"
    }
   ],
   "source": [
    "a = all_data.reset_index()\n",
    "a['diff'] = (a['amountLL'] - a['amountSS'])/a['amountSS']\n",
    "a['choice_LL'] = [int(not x) for x in a['choice_binary']]\n",
    "a = a[a['cond'] == 'Magnitude']\n",
    "sns.lmplot(x = 'k_eq', y = 'choice_LL', hue  = 'stim', logistic = True, \n",
    "           truncate  = True, units = 'sub', scatter = False, data = a)\n",
    "plt.ylabel('Probability of Larger Later Choice')\n",
    "plt.xlabel('Percent Value Difference Over Delay')"
   ]
  },
  {
   "cell_type": "code",
   "execution_count": null,
   "metadata": {
    "collapsed": true
   },
   "outputs": [],
   "source": []
  }
 ],
 "metadata": {
  "kernelspec": {
   "display_name": "Python 2",
   "language": "python",
   "name": "python2"
  },
  "language_info": {
   "codemirror_mode": {
    "name": "ipython",
    "version": 2
   },
   "file_extension": ".py",
   "mimetype": "text/x-python",
   "name": "python",
   "nbconvert_exporter": "python",
   "pygments_lexer": "ipython2",
   "version": "2.7.12"
  }
 },
 "nbformat": 4,
 "nbformat_minor": 0
}
