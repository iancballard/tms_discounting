{
 "cells": [
  {
   "cell_type": "code",
   "execution_count": 37,
   "metadata": {
    "collapsed": false
   },
   "outputs": [],
   "source": [
    "import pandas as pd\n",
    "import numpy as np\n",
    "import math\n",
    "import glob\n",
    "import scipy\n",
    "import os.path as op\n",
    "from scipy.optimize import basinhopping\n",
    "from scipy.optimize import minimize\n",
    "import scipy.stats as stats\n",
    "import matplotlib.pyplot as plt\n",
    "import multiprocessing\n",
    "import seaborn as sns\n",
    "from statsmodels.formula.api import ols\n",
    "import statsmodels.api as sm \n",
    "import statsmodels.formula.api as smf\n",
    "\n",
    "#r stuff\n",
    "import rpy2\n",
    "import rpy2.robjects as robjects\n",
    "import rpy2.robjects.packages as rpackages\n",
    "from rpy2.robjects.vectors import StrVector\n",
    "from rpy2.robjects.packages import importr\n",
    "from rpy2.robjects import pandas2ri\n",
    "pandas2ri.activate()\n",
    "from rpy2.robjects import r\n",
    "base = importr('base')\n",
    "afex = importr('afex') \n",
    "\n",
    "%matplotlib inline"
   ]
  },
  {
   "cell_type": "code",
   "execution_count": 2,
   "metadata": {
    "collapsed": false
   },
   "outputs": [],
   "source": [
    "# get list of data files to process\n",
    "data_files = glob.glob('data/*txt')"
   ]
  },
  {
   "cell_type": "code",
   "execution_count": 3,
   "metadata": {
    "collapsed": false
   },
   "outputs": [],
   "source": [
    "# CONSTANTS NECESSARY FOR MAKING SENSE OF THE DATA FILES\n",
    "col_names = ['stim', 'cond', 'trial', 'amountSS',\n",
    "             'amountLL', 'delayLL', 'choice', 'space','pct_diff']\n",
    "stim = { 1:'Pre', 2:'TMS', 3:'Sham' }\n",
    "cond = { 1:'Ctrl', 2:'Hidden Zero', 3:'Magnitude' }\n",
    "choice = { 1:'SS', 0:'LL'}"
   ]
  },
  {
   "cell_type": "code",
   "execution_count": 4,
   "metadata": {
    "collapsed": false
   },
   "outputs": [],
   "source": [
    "all_data = []\n",
    "for f in data_files:\n",
    "    data = pd.read_csv(f, delimiter = '\\t', header = None,\n",
    "                      names = col_names, index_col = False)\n",
    "    \n",
    "    data['choice_binary'] = data['choice']\n",
    "    data['choice'] = [choice[x] for x in data['choice']]\n",
    "    data['cond'] = [cond[x] for x in data['cond']]\n",
    "    data['stim'] = [stim[x] for x in data['stim']]\n",
    "    \n",
    "    data = data[['stim', 'cond', 'trial', 'amountSS', \n",
    "                 'amountLL', 'delayLL', 'choice','choice_binary','pct_diff']]\n",
    "    \n",
    "    data['hemi'] = f.split('/')[1].split('s')[0]\n",
    "    data['sub'] = f.split('.')[0][-2:]\n",
    "     \n",
    "    all_data.append(data)\n",
    "all_data = pd.concat(all_data)"
   ]
  },
  {
   "cell_type": "code",
   "execution_count": 5,
   "metadata": {
    "collapsed": true
   },
   "outputs": [],
   "source": [
    "def find_K(A1,A2,d1,d2):\n",
    "    return (A2/A1 - 1)*1.0 / (d2 - (A2/A1)*d1)"
   ]
  },
  {
   "cell_type": "code",
   "execution_count": 6,
   "metadata": {
    "collapsed": false
   },
   "outputs": [],
   "source": [
    "#find k_eq for each choice\n",
    "for row in set(all_data.index):\n",
    "    k_eq = find_K(all_data.loc[row,'amountSS'].values[0],\n",
    "       all_data.loc[row,'amountLL'].values[0],\n",
    "       0,\n",
    "       all_data.loc[row,'delayLL'].values[0])\n",
    "    \n",
    "\n",
    "    all_data.loc[row,'k_eq'] = k_eq\n",
    "\n",
    "#drop trial level\n",
    "all_data = all_data.reset_index().set_index(['sub','cond','stim','hemi']).sort_index()"
   ]
  },
  {
   "cell_type": "code",
   "execution_count": 7,
   "metadata": {
    "collapsed": true
   },
   "outputs": [],
   "source": [
    "def hyperbolic(A,d,k):\n",
    "    return A * 1.0/(1.0+k*d)"
   ]
  },
  {
   "cell_type": "code",
   "execution_count": 8,
   "metadata": {
    "collapsed": false
   },
   "outputs": [],
   "source": [
    "def errf(params,sub_data):\n",
    "    #get params and bound on [0,1]\n",
    "    k,m = params\n",
    "    k = scipy.stats.logistic.cdf(k)\n",
    "    m = scipy.stats.logistic.cdf(m)*20\n",
    "    LL = 0\n",
    "    for trial in range(sub_data.shape[0]):\n",
    "        SV_SS = hyperbolic(sub_data.loc[trial,'amountSS'],\n",
    "                            0, #delayed rewards available now\n",
    "                            k)\n",
    "        SV_LL = hyperbolic(sub_data.loc[trial,'amountLL'],\n",
    "                            sub_data.loc[trial,'delayLL'],\n",
    "                            k)\n",
    "\n",
    "        p = 1 / (1 + np.exp(-1*(SV_SS-SV_LL)*m) )\n",
    "        if sub_data.loc[trial,'choice'] == 'LL':\n",
    "            p = 1-p\n",
    "            \n",
    "        if p < 1e-100:\n",
    "            p = 1e-100\n",
    "            \n",
    "        LL += np.log(p)\n",
    "    return LL*-1 #minimize negative log likelihood"
   ]
  },
  {
   "cell_type": "code",
   "execution_count": 9,
   "metadata": {
    "collapsed": true
   },
   "outputs": [],
   "source": [
    "in_tuples = list(set(all_data.index))"
   ]
  },
  {
   "cell_type": "code",
   "execution_count": 10,
   "metadata": {
    "collapsed": false
   },
   "outputs": [],
   "source": [
    "def run_data(in_tup):\n",
    "    #get the data for this experiment\n",
    "    sub_data = all_data.loc[in_tup].reset_index().copy()\n",
    "    sub, exp, tms, hemi = in_tup\n",
    "    \n",
    "    #check to see if they made all LL or all SS choices and set k appropriately\n",
    "    if sum(sub_data['choice'] == 'LL') == sub_data.shape[0]: #all larger later\n",
    "        k = min(sub_data['k_eq'])\n",
    "        return in_tup,k\n",
    "    elif sum(sub_data['choice'] == 'SS') == sub_data.shape[0]: #all SS\n",
    "        k = max(sub_data['k_eq'])\n",
    "        return in_tup,k\n",
    "    \n",
    "    #run minimization\n",
    "    else:\n",
    "        k_init = scipy.stats.logistic.ppf(sub_data['k_eq'].mean())\n",
    "        m_init = -5\n",
    "        if exp == 'Magnitude':\n",
    "            m_init = scipy.stats.logistic.cdf(m_init)/10.0\n",
    "            m_init = scipy.stats.logistic.ppf(m_init)\n",
    "        params = [k_init,m_init]\n",
    "        minimizer_kwargs = {\"method\": 'CG', 'args':(sub_data)}\n",
    "        try:\n",
    "            res = basinhopping(errf, params, minimizer_kwargs=minimizer_kwargs,niter=50)\n",
    "        except:\n",
    "            return (in_tup,'Failed')\n",
    "        return (in_tup,res)"
   ]
  },
  {
   "cell_type": "code",
   "execution_count": 11,
   "metadata": {
    "collapsed": false
   },
   "outputs": [],
   "source": [
    "pool = multiprocessing.Pool(54)\n",
    "res = pool.map(run_data,in_tuples)\n",
    "pool.terminate()\n",
    "pool.join()"
   ]
  },
  {
   "cell_type": "code",
   "execution_count": 12,
   "metadata": {
    "collapsed": false
   },
   "outputs": [],
   "source": [
    "results_df = {'ll':[], 'k':[], 'm':[],'sub':[],'exp':[],'hemi':[],'tms':[]}\n",
    "for x in res:\n",
    "    in_tup,o = x\n",
    "    sub, exp, tms, hemi = in_tup\n",
    "    if o == 'Failed':\n",
    "        print in_tup\n",
    "        \n",
    "    else:\n",
    "        results_df['ll'].append(o.fun*-1)\n",
    "        results_df['k'].append(scipy.stats.logistic.cdf(o.x[0]))\n",
    "        results_df['m'].append(scipy.stats.logistic.cdf(o.x[1])*20)\n",
    "        results_df['sub'].append(sub)\n",
    "        results_df['exp'].append(exp)\n",
    "        results_df['tms'].append(tms)\n",
    "        results_df['hemi'].append(hemi)\n",
    "results_df = pd.DataFrame(results_df)\n",
    "results_df['logk'] = np.log(results_df['k'])*-1\n",
    "results_df.to_csv(op.abspath('./k_fits.csv'), index = False)\n",
    "results_df = results_df.set_index(['sub','exp','tms','hemi'])"
   ]
  },
  {
   "cell_type": "code",
   "execution_count": 19,
   "metadata": {
    "collapsed": false
   },
   "outputs": [],
   "source": [
    "results_df = pd.read_csv(op.abspath('./k_fits.csv'))\n"
   ]
  },
  {
   "cell_type": "code",
   "execution_count": 41,
   "metadata": {
    "collapsed": false
   },
   "outputs": [],
   "source": [
    "# #compute LLRT relative to to coin flip model\n",
    "# for in_tup in in_tuples:\n",
    "#     sub_data = all_data.loc[in_tup].reset_index().copy()\n",
    "    \n",
    "#     null_ll = np.log(.5)*sub_data.shape[0]\n",
    "#     ll = results_df.loc[in_tup,'ll']\n",
    "#     ratio = 2*(ll - null_ll)\n",
    "#     test_stat = stats.chi2.sf(ratio,2)\n",
    "    \n",
    "#     results_df.loc[in_tup,'chi'] = test_stat"
   ]
  },
  {
   "cell_type": "code",
   "execution_count": 52,
   "metadata": {
    "collapsed": false
   },
   "outputs": [],
   "source": [
    "#average over hemispheres\n",
    "# r = results_df.groupby(['exp','tms','sub']).mean().reset_index()"
   ]
  },
  {
   "cell_type": "code",
   "execution_count": 53,
   "metadata": {
    "collapsed": false
   },
   "outputs": [
    {
     "data": {
      "image/png": "[encoded data removed]",
      "text/plain": [
       "<matplotlib.figure.Figure at 0x1181ecb90>"
      ]
     },
     "metadata": {},
     "output_type": "display_data"
    }
   ],
   "source": [
    "sns.set_context('paper',font_scale = 2,rc={\"figure.figsize\": (7, 8)})\n",
    "sns.set_style(\"white\")\n",
    "r = r[r['exp'] != 'Hidden Zero']\n",
    "r['TMS Condition'] = r['tms']\n",
    "sns.barplot(x = 'TMS Condition', y = 'logk',hue = 'exp' , data = r)\n",
    "plt.ylabel('Impulsivity')\n",
    "sns.despine()\n",
    "# plt.savefig('/home/iballard/Dropbox/fd/figs/committee_meeting/Magnitude.png', dpi = 300)"
   ]
  },
  {
   "cell_type": "code",
   "execution_count": 66,
   "metadata": {
    "collapsed": false
   },
   "outputs": [
    {
     "data": {
      "text/plain": [
       "<seaborn.axisgrid.FacetGrid at 0x118a2cc10>"
      ]
     },
     "execution_count": 66,
     "metadata": {},
     "output_type": "execute_result"
    },
    {
     "data": {
      "image/png": "[encoded data removed]",
      "text/plain": [
       "<matplotlib.figure.Figure at 0x118a4a190>"
      ]
     },
     "metadata": {},
     "output_type": "display_data"
    }
   ],
   "source": [
    "pre = results_df[results_df['tms'] !='Pre']\n",
    "test = pre[pre['exp'] != '']\n",
    "sns.factorplot(x = 'tms', y = 'logk',hue = 'exp', col = 'hemi', data = test)\n"
   ]
  },
  {
   "cell_type": "code",
   "execution_count": 67,
   "metadata": {
    "collapsed": false
   },
   "outputs": [],
   "source": [
    "mag = pre[pre['exp'] != 'Hidden Zero']\n"
   ]
  },
  {
   "cell_type": "code",
   "execution_count": 79,
   "metadata": {
    "collapsed": false
   },
   "outputs": [],
   "source": [
    "# model_str = 'logk ~ tms*exp*hemi'\n",
    "# mixedfx = smf.mixedlm(model_str, mag, groups = mag['sub'])    \n",
    "# mixedfx = mixedfx.fit()\n",
    "# print mixedfx.summary()"
   ]
  },
  {
   "cell_type": "code",
   "execution_count": 77,
   "metadata": {
    "collapsed": false
   },
   "outputs": [
    {
     "name": "stderr",
     "output_type": "stream",
     "text": [
      "/anaconda/lib/python2.7/site-packages/ipykernel/__main__.py:1: SettingWithCopyWarning: \n",
      "A value is trying to be set on a copy of a slice from a DataFrame.\n",
      "Try using .loc[row_indexer,col_indexer] = value instead\n",
      "\n",
      "See the caveats in the documentation: http://pandas.pydata.org/pandas-docs/stable/indexing.html#indexing-view-versus-copy\n",
      "  if __name__ == '__main__':\n"
     ]
    }
   ],
   "source": [
    "mag['sub_id'] = [str(x) + y for x,y in zip(mag['sub'],mag['hemi'])]"
   ]
  },
  {
   "cell_type": "code",
   "execution_count": 78,
   "metadata": {
    "collapsed": false
   },
   "outputs": [
    {
     "name": "stdout",
     "output_type": "stream",
     "text": [
      "Anova Table (Type 3 tests)\n",
      "\n",
      "Response: logk\n",
      "        Effect    df   MSE         F   ges p.value\n",
      "1         hemi 1, 25 45.29      0.03 .0003     .85\n",
      "2          exp 1, 25 54.21 15.72 ***   .16   .0005\n",
      "3     hemi:exp 1, 25 54.21      0.05 .0006     .82\n",
      "4          tms 1, 25 49.79 17.85 ***   .17   .0003\n",
      "5     hemi:tms 1, 25 49.79      0.09  .001     .76\n",
      "6      exp:tms 1, 25 29.08 42.41 ***   .22  <.0001\n",
      "7 hemi:exp:tms 1, 25 29.08      0.03 .0002     .87\n",
      "\n",
      "Sphericity correction method: GG \n",
      "\n",
      "\n",
      "Type III Repeated Measures MANOVA Tests: Pillai test statistic\n",
      "             Df test stat approx F num Df den Df    Pr(>F)    \n",
      "(Intercept)   1   0.85788  150.902      1     25 4.342e-12 ***\n",
      "hemi          1   0.00137    0.034      1     25 0.8546992    \n",
      "exp           1   0.38600   15.717      1     25 0.0005428 ***\n",
      "hemi:exp      1   0.00209    0.052      1     25 0.8207322    \n",
      "tms           1   0.41659   17.851      1     25 0.0002775 ***\n",
      "hemi:tms      1   0.00375    0.094      1     25 0.7614744    \n",
      "exp:tms       1   0.62912   42.407      1     25 8.047e-07 ***\n",
      "hemi:exp:tms  1   0.00112    0.028      1     25 0.8683028    \n",
      "---\n",
      "Signif. codes:  0 ‘***’ 0.001 ‘**’ 0.01 ‘*’ 0.05 ‘.’ 0.1 ‘ ’ 1\n",
      "\n"
     ]
    },
    {
     "name": "stderr",
     "output_type": "stream",
     "text": [
      "//anaconda/lib/python2.7/site-packages/rpy2/rinterface/__init__.py:185: RRuntimeWarning: Contrasts set to contr.sum for the following variables: hemi\n",
      "\n",
      "  warnings.warn(x, RRuntimeWarning)\n"
     ]
    }
   ],
   "source": [
    "model = afex.aov_ez('sub_id', 'logk', data = mag, within=['exp','tms'], between = ['hemi'])\n",
    "print(model)\n",
    "print model.rx2('Anova')"
   ]
  },
  {
   "cell_type": "code",
   "execution_count": 144,
   "metadata": {
    "collapsed": false
   },
   "outputs": [
    {
     "data": {
      "text/plain": [
       "<matplotlib.axes._subplots.AxesSubplot at 0x7ffa25c11c50>"
      ]
     },
     "execution_count": 144,
     "metadata": {},
     "output_type": "execute_result"
    },
    {
     "data": {
      "image/png": "[encoded data removed]",
      "text/plain": [
       "<matplotlib.figure.Figure at 0x7ffa25b59410>"
      ]
     },
     "metadata": {},
     "output_type": "display_data"
    }
   ],
   "source": [
    "sham = r[r['tms'] !='Pre']\n",
    "test = pre[pre['exp'] != '']\n",
    "sns.barplot(x = 'tms', y = 'logk',hue = 'exp' , data = test)\n"
   ]
  },
  {
   "cell_type": "markdown",
   "metadata": {},
   "source": [
    "# Percent SS Analysis"
   ]
  },
  {
   "cell_type": "code",
   "execution_count": 247,
   "metadata": {
    "collapsed": false
   },
   "outputs": [],
   "source": [
    "perc_df =all_data.reset_index().groupby(['sub','stim','cond']).mean().reset_index()\n",
    "perc_df['choice_binary_logit'] = [scipy.special.logit(x) for x in perc_df['choice_binary']]"
   ]
  },
  {
   "cell_type": "code",
   "execution_count": 249,
   "metadata": {
    "collapsed": false,
    "scrolled": true
   },
   "outputs": [
    {
     "data": {
      "text/plain": [
       "<matplotlib.text.Text at 0x7ffa24e15250>"
      ]
     },
     "execution_count": 249,
     "metadata": {},
     "output_type": "execute_result"
    },
    {
     "data": {
      "image/png": "[encoded data removed]",
      "text/plain": [
       "<matplotlib.figure.Figure at 0x7ffa24e67a10>"
      ]
     },
     "metadata": {},
     "output_type": "display_data"
    }
   ],
   "source": [
    "sns.barplot(x = 'stim', y = 'choice_binary',hue = 'cond' , data = perc_df)\n",
    "plt.ylabel('p(SS)')"
   ]
  },
  {
   "cell_type": "markdown",
   "metadata": {},
   "source": [
    "### Sham"
   ]
  },
  {
   "cell_type": "code",
   "execution_count": 250,
   "metadata": {
    "collapsed": false,
    "scrolled": false
   },
   "outputs": [
    {
     "name": "stdout",
     "output_type": "stream",
     "text": [
      "                   Mixed Linear Model Regression Results\n",
      "==========================================================================\n",
      "Model:               MixedLM    Dependent Variable:    choice_binary_logit\n",
      "No. Observations:    90         Method:                REML               \n",
      "No. Groups:          15         Scale:                 0.3356             \n",
      "Min. group size:     6          Likelihood:            -91.4188           \n",
      "Max. group size:     6          Converged:             Yes                \n",
      "Mean group size:     6.0                                                  \n",
      "--------------------------------------------------------------------------\n",
      "                                Coef.  Std.Err.   z    P>|z| [0.025 0.975]\n",
      "--------------------------------------------------------------------------\n",
      "Intercept                        0.189    0.185  1.021 0.307 -0.173  0.551\n",
      "stim[T.TMS]                      0.375    0.212  1.774 0.076 -0.039  0.790\n",
      "cond[T.Hidden Zero]             -0.290    0.212 -1.372 0.170 -0.705  0.124\n",
      "cond[T.Magnitude]               -0.942    0.212 -4.452 0.000 -1.356 -0.527\n",
      "stim[T.TMS]:cond[T.Hidden Zero]  0.114    0.299  0.380 0.704 -0.473  0.700\n",
      "stim[T.TMS]:cond[T.Magnitude]    1.134    0.299  3.789 0.000  0.547  1.720\n",
      "Intercept RE                     0.176    0.173                           \n",
      "==========================================================================\n",
      "\n"
     ]
    }
   ],
   "source": [
    "#Mixed model relative to Sham\n",
    "sub_df = perc_df[perc_df['stim'] !='Pre']\n",
    "model_str = 'choice_binary_logit ~ stim*cond'\n",
    "mixedfx = smf.mixedlm(model_str, sub_df, groups = sub_df['sub'])    \n",
    "mixedfx = mixedfx.fit()\n",
    "print mixedfx.summary()"
   ]
  },
  {
   "cell_type": "code",
   "execution_count": 251,
   "metadata": {
    "collapsed": false
   },
   "outputs": [
    {
     "name": "stdout",
     "output_type": "stream",
     "text": [
      "                  Mixed Linear Model Regression Results\n",
      "========================================================================\n",
      "Model:                 MixedLM     Dependent Variable:     choice_binary\n",
      "No. Observations:      60          Method:                 REML         \n",
      "No. Groups:            15          Scale:                  0.0116       \n",
      "Min. group size:       4           Likelihood:             35.6399      \n",
      "Max. group size:       4           Converged:              Yes          \n",
      "Mean group size:       4.0                                              \n",
      "------------------------------------------------------------------------\n",
      "                              Coef.  Std.Err.   z    P>|z| [0.025 0.975]\n",
      "------------------------------------------------------------------------\n",
      "Intercept                     -0.070    0.031 -2.286 0.022 -0.130 -0.010\n",
      "stim[T.TMS]                    0.032    0.039  0.806 0.420 -0.045  0.109\n",
      "cond[T.Magnitude]             -0.148    0.039 -3.778 0.000 -0.225 -0.071\n",
      "stim[T.TMS]:cond[T.Magnitude]  0.210    0.056  3.782 0.000  0.101  0.319\n",
      "Intercept RE                   0.002    0.023                           \n",
      "========================================================================\n",
      "\n"
     ]
    },
    {
     "name": "stderr",
     "output_type": "stream",
     "text": [
      "/home/iballard/.local/lib/python2.7/site-packages/statsmodels/regression/mixed_linear_model.py:1717: ConvergenceWarning: The MLE may be on the boundary of the parameter space.\n",
      "  warnings.warn(msg, ConvergenceWarning)\n"
     ]
    }
   ],
   "source": [
    "s = sub_df.set_index(['cond','stim','sub']).copy()\n",
    "s.loc[('Magnitude','TMS'),'choice_binary'] = (s.loc[('Magnitude','TMS'),'choice_binary'] \\\n",
    "    - s.loc[('Ctrl','TMS'),'choice_binary']).values\n",
    "s.loc[('Hidden Zero','TMS'),'choice_binary'] = (s.loc[('Hidden Zero','TMS'),'choice_binary'] \\\n",
    "    - s.loc[('Ctrl','TMS'),'choice_binary']).values\n",
    "s.loc[('Magnitude','Sham'),'choice_binary'] = (s.loc[('Magnitude','Sham'),'choice_binary'] \\\n",
    "    - s.loc[('Ctrl','Sham'),'choice_binary']).values\n",
    "s.loc[('Hidden Zero','Sham'),'choice_binary'] = (s.loc[('Hidden Zero','Sham'),'choice_binary'] \\\n",
    "    - s.loc[('Ctrl','Sham'),'choice_binary']).values\n",
    "\n",
    "s = s.reset_index()\n",
    "s = s[s['cond'] != 'Ctrl']\n",
    "\n",
    "# sns.barplot(x = 'stim', y = 'choice_binary',hue = 'cond' , data = s.reset_index())\n",
    "\n",
    "model_str = 'choice_binary ~ stim*cond'\n",
    "mixedfx = smf.mixedlm(model_str, s, groups = s['sub'])    \n",
    "mixedfx = mixedfx.fit()\n",
    "print mixedfx.summary()"
   ]
  },
  {
   "cell_type": "markdown",
   "metadata": {},
   "source": [
    "### Pre"
   ]
  },
  {
   "cell_type": "code",
   "execution_count": 254,
   "metadata": {
    "collapsed": false,
    "scrolled": true
   },
   "outputs": [
    {
     "name": "stdout",
     "output_type": "stream",
     "text": [
      "                   Mixed Linear Model Regression Results\n",
      "==========================================================================\n",
      "Model:               MixedLM    Dependent Variable:    choice_binary_logit\n",
      "No. Observations:    90         Method:                REML               \n",
      "No. Groups:          15         Scale:                 0.3401             \n",
      "Min. group size:     6          Likelihood:            -90.5671           \n",
      "Max. group size:     6          Converged:             Yes                \n",
      "Mean group size:     6.0                                                  \n",
      "--------------------------------------------------------------------------\n",
      "                                Coef.  Std.Err.   z    P>|z| [0.025 0.975]\n",
      "--------------------------------------------------------------------------\n",
      "Intercept                        0.230    0.178  1.291 0.197 -0.119  0.579\n",
      "stim[T.TMS]                      0.334    0.213  1.568 0.117 -0.083  0.751\n",
      "cond[T.Hidden Zero]             -0.362    0.213 -1.702 0.089 -0.780  0.055\n",
      "cond[T.Magnitude]               -1.159    0.213 -5.441 0.000 -1.576 -0.741\n",
      "stim[T.TMS]:cond[T.Hidden Zero]  0.186    0.301  0.617 0.537 -0.404  0.776\n",
      "stim[T.TMS]:cond[T.Magnitude]    1.350    0.301  4.484 0.000  0.760  1.941\n",
      "Intercept RE                     0.136    0.143                           \n",
      "==========================================================================\n",
      "\n"
     ]
    }
   ],
   "source": [
    "#Mixed model relative to Pre\n",
    "sub_df = perc_df[perc_df['stim'] !='Sham']\n",
    "model_str = 'choice_binary_logit ~ stim*cond'\n",
    "mixedfx = smf.mixedlm(model_str, sub_df, groups = sub_df['sub'])    \n",
    "mixedfx = mixedfx.fit()\n",
    "print mixedfx.summary()"
   ]
  },
  {
   "cell_type": "code",
   "execution_count": 255,
   "metadata": {
    "collapsed": false
   },
   "outputs": [
    {
     "ename": "ValueError",
     "evalue": "Could not interpret input 'stim'",
     "output_type": "error",
     "traceback": [
      "\u001b[1;31m---------------------------------------------------------------------------\u001b[0m",
      "\u001b[1;31mValueError\u001b[0m                                Traceback (most recent call last)",
      "\u001b[1;32m<ipython-input-255-d9fc375b8e46>\u001b[0m in \u001b[0;36m<module>\u001b[1;34m()\u001b[0m\n\u001b[1;32m----> 1\u001b[1;33m \u001b[0msns\u001b[0m\u001b[1;33m.\u001b[0m\u001b[0mbarplot\u001b[0m\u001b[1;33m(\u001b[0m\u001b[0mx\u001b[0m \u001b[1;33m=\u001b[0m \u001b[1;34m'stim'\u001b[0m\u001b[1;33m,\u001b[0m \u001b[0my\u001b[0m \u001b[1;33m=\u001b[0m \u001b[1;34m'choice_binary'\u001b[0m\u001b[1;33m,\u001b[0m\u001b[0mhue\u001b[0m \u001b[1;33m=\u001b[0m \u001b[1;34m'cond'\u001b[0m \u001b[1;33m,\u001b[0m \u001b[0mdata\u001b[0m \u001b[1;33m=\u001b[0m \u001b[0mpre\u001b[0m\u001b[1;33m)\u001b[0m\u001b[1;33m\u001b[0m\u001b[0m\n\u001b[0m",
      "\u001b[1;32m/home/iballard/anaconda/lib/python2.7/site-packages/seaborn/categorical.pyc\u001b[0m in \u001b[0;36mbarplot\u001b[1;34m(x, y, hue, data, order, hue_order, estimator, ci, n_boot, units, orient, color, palette, saturation, errcolor, ax, **kwargs)\u001b[0m\n\u001b[0;32m   2851\u001b[0m                           \u001b[0mestimator\u001b[0m\u001b[1;33m,\u001b[0m \u001b[0mci\u001b[0m\u001b[1;33m,\u001b[0m \u001b[0mn_boot\u001b[0m\u001b[1;33m,\u001b[0m \u001b[0munits\u001b[0m\u001b[1;33m,\u001b[0m\u001b[1;33m\u001b[0m\u001b[0m\n\u001b[0;32m   2852\u001b[0m                           \u001b[0morient\u001b[0m\u001b[1;33m,\u001b[0m \u001b[0mcolor\u001b[0m\u001b[1;33m,\u001b[0m \u001b[0mpalette\u001b[0m\u001b[1;33m,\u001b[0m \u001b[0msaturation\u001b[0m\u001b[1;33m,\u001b[0m\u001b[1;33m\u001b[0m\u001b[0m\n\u001b[1;32m-> 2853\u001b[1;33m                           errcolor)\n\u001b[0m\u001b[0;32m   2854\u001b[0m \u001b[1;33m\u001b[0m\u001b[0m\n\u001b[0;32m   2855\u001b[0m     \u001b[1;32mif\u001b[0m \u001b[0max\u001b[0m \u001b[1;32mis\u001b[0m \u001b[0mNone\u001b[0m\u001b[1;33m:\u001b[0m\u001b[1;33m\u001b[0m\u001b[0m\n",
      "\u001b[1;32m/home/iballard/anaconda/lib/python2.7/site-packages/seaborn/categorical.pyc\u001b[0m in \u001b[0;36m__init__\u001b[1;34m(self, x, y, hue, data, order, hue_order, estimator, ci, n_boot, units, orient, color, palette, saturation, errcolor)\u001b[0m\n\u001b[0;32m   1519\u001b[0m         \u001b[1;34m\"\"\"Initialize the plotter.\"\"\"\u001b[0m\u001b[1;33m\u001b[0m\u001b[0m\n\u001b[0;32m   1520\u001b[0m         self.establish_variables(x, y, hue, data, orient,\n\u001b[1;32m-> 1521\u001b[1;33m                                  order, hue_order, units)\n\u001b[0m\u001b[0;32m   1522\u001b[0m         \u001b[0mself\u001b[0m\u001b[1;33m.\u001b[0m\u001b[0mestablish_colors\u001b[0m\u001b[1;33m(\u001b[0m\u001b[0mcolor\u001b[0m\u001b[1;33m,\u001b[0m \u001b[0mpalette\u001b[0m\u001b[1;33m,\u001b[0m \u001b[0msaturation\u001b[0m\u001b[1;33m)\u001b[0m\u001b[1;33m\u001b[0m\u001b[0m\n\u001b[0;32m   1523\u001b[0m         \u001b[0mself\u001b[0m\u001b[1;33m.\u001b[0m\u001b[0mestimate_statistic\u001b[0m\u001b[1;33m(\u001b[0m\u001b[0mestimator\u001b[0m\u001b[1;33m,\u001b[0m \u001b[0mci\u001b[0m\u001b[1;33m,\u001b[0m \u001b[0mn_boot\u001b[0m\u001b[1;33m)\u001b[0m\u001b[1;33m\u001b[0m\u001b[0m\n",
      "\u001b[1;32m/home/iballard/anaconda/lib/python2.7/site-packages/seaborn/categorical.pyc\u001b[0m in \u001b[0;36mestablish_variables\u001b[1;34m(self, x, y, hue, data, orient, order, hue_order, units)\u001b[0m\n\u001b[0;32m    145\u001b[0m                 \u001b[1;32mif\u001b[0m \u001b[0misinstance\u001b[0m\u001b[1;33m(\u001b[0m\u001b[0minput\u001b[0m\u001b[1;33m,\u001b[0m \u001b[0mstring_types\u001b[0m\u001b[1;33m)\u001b[0m\u001b[1;33m:\u001b[0m\u001b[1;33m\u001b[0m\u001b[0m\n\u001b[0;32m    146\u001b[0m                     \u001b[0merr\u001b[0m \u001b[1;33m=\u001b[0m \u001b[1;34m\"Could not interpret input '{}'\"\u001b[0m\u001b[1;33m.\u001b[0m\u001b[0mformat\u001b[0m\u001b[1;33m(\u001b[0m\u001b[0minput\u001b[0m\u001b[1;33m)\u001b[0m\u001b[1;33m\u001b[0m\u001b[0m\n\u001b[1;32m--> 147\u001b[1;33m                     \u001b[1;32mraise\u001b[0m \u001b[0mValueError\u001b[0m\u001b[1;33m(\u001b[0m\u001b[0merr\u001b[0m\u001b[1;33m)\u001b[0m\u001b[1;33m\u001b[0m\u001b[0m\n\u001b[0m\u001b[0;32m    148\u001b[0m \u001b[1;33m\u001b[0m\u001b[0m\n\u001b[0;32m    149\u001b[0m             \u001b[1;31m# Figure out the plotting orientation\u001b[0m\u001b[1;33m\u001b[0m\u001b[1;33m\u001b[0m\u001b[0m\n",
      "\u001b[1;31mValueError\u001b[0m: Could not interpret input 'stim'"
     ]
    }
   ],
   "source": [
    "sns.barplot(x = 'stim', y = 'choice_binary',hue = 'cond' , data = pre)\n"
   ]
  },
  {
   "cell_type": "code",
   "execution_count": 257,
   "metadata": {
    "collapsed": false
   },
   "outputs": [
    {
     "name": "stdout",
     "output_type": "stream",
     "text": [
      "                  Mixed Linear Model Regression Results\n",
      "========================================================================\n",
      "Model:               MixedLM   Dependent Variable:   choice_binary_logit\n",
      "No. Observations:    60        Method:               REML               \n",
      "No. Groups:          15        Scale:                0.4051             \n",
      "Min. group size:     4         Likelihood:           -66.5473           \n",
      "Max. group size:     4         Converged:            Yes                \n",
      "Mean group size:     4.0                                                \n",
      "------------------------------------------------------------------------\n",
      "                              Coef.  Std.Err.   z    P>|z| [0.025 0.975]\n",
      "------------------------------------------------------------------------\n",
      "Intercept                     -0.132    0.196 -0.675 0.500 -0.517  0.252\n",
      "stim[T.TMS]                    0.520    0.232  2.237 0.025  0.064  0.975\n",
      "cond[T.Magnitude]             -0.796    0.232 -3.426 0.001 -1.252 -0.341\n",
      "stim[T.TMS]:cond[T.Magnitude]  1.164    0.329  3.543 0.000  0.520  1.809\n",
      "Intercept RE                   0.173    0.198                           \n",
      "========================================================================\n",
      "\n"
     ]
    }
   ],
   "source": [
    "s = sub_df.set_index(['cond','stim','sub']).copy()\n",
    "s.loc[('Magnitude','TMS'),'choice_binary'] = (s.loc[('Magnitude','TMS'),'choice_binary'] \\\n",
    "    - s.loc[('Ctrl','TMS'),'choice_binary']).values\n",
    "s.loc[('Hidden Zero','TMS'),'choice_binary'] = (s.loc[('Hidden Zero','TMS'),'choice_binary'] \\\n",
    "    - s.loc[('Ctrl','TMS'),'choice_binary']).values\n",
    "s.loc[('Magnitude','Pre'),'choice_binary'] = (s.loc[('Magnitude','Pre'),'choice_binary'] \\\n",
    "    - s.loc[('Ctrl','Pre'),'choice_binary']).values\n",
    "s.loc[('Hidden Zero','Pre'),'choice_binary'] = (s.loc[('Hidden Zero','Pre'),'choice_binary'] \\\n",
    "    - s.loc[('Ctrl','Pre'),'choice_binary']).values\n",
    "\n",
    "s = s.reset_index()\n",
    "s = s[s['cond'] != 'Ctrl']\n",
    "\n",
    "# sns.barplot(x = 'stim', y = 'choice_binary',hue = 'cond' , data = s.reset_index())\n",
    "\n",
    "model_str = 'choice_binary_logit ~ stim*cond'\n",
    "mixedfx = smf.mixedlm(model_str, s, groups = s['sub'])    \n",
    "mixedfx = mixedfx.fit()\n",
    "print mixedfx.summary()"
   ]
  },
  {
   "cell_type": "code",
   "execution_count": 207,
   "metadata": {
    "collapsed": false
   },
   "outputs": [],
   "source": [
    "import patsy\n",
    "model_str = 'choice_binary ~ stim*cond'\n",
    "\n",
    "y, X = patsy.dmatrices(model_str,s, return_type='dataframe')"
   ]
  },
  {
   "cell_type": "code",
   "execution_count": 225,
   "metadata": {
    "collapsed": false
   },
   "outputs": [
    {
     "data": {
      "text/plain": [
       "['Intercept',\n",
       " 'tms[T.TMS]',\n",
       " 'exp[T.Hidden Zero]',\n",
       " 'exp[T.Magnitude]',\n",
       " 'tms[T.TMS]:exp[T.Hidden Zero]',\n",
       " 'tms[T.TMS]:exp[T.Magnitude]']"
      ]
     },
     "execution_count": 225,
     "metadata": {},
     "output_type": "execute_result"
    }
   ],
   "source": [
    "mixedfx.model.exog_names"
   ]
  },
  {
   "cell_type": "code",
   "execution_count": 261,
   "metadata": {
    "collapsed": false
   },
   "outputs": [
    {
     "data": {
      "text/plain": [
       "<matplotlib.axes._subplots.AxesSubplot at 0x7ffa24a507d0>"
      ]
     },
     "execution_count": 261,
     "metadata": {},
     "output_type": "execute_result"
    },
    {
     "data": {
      "image/png": "[encoded data removed]",
      "text/plain": [
       "<matplotlib.figure.Figure at 0x7ffa24a5aad0>"
      ]
     },
     "metadata": {},
     "output_type": "display_data"
    }
   ],
   "source": [
    "sns.distplot(perc_df['choice_binary'])"
   ]
  },
  {
   "cell_type": "code",
   "execution_count": 302,
   "metadata": {
    "collapsed": false
   },
   "outputs": [
    {
     "data": {
      "text/plain": [
       "<matplotlib.text.Text at 0x7ffa1b7c4a90>"
      ]
     },
     "execution_count": 302,
     "metadata": {},
     "output_type": "execute_result"
    },
    {
     "data": {
      "image/png": "[encoded data removed]",
      "text/plain": [
       "<matplotlib.figure.Figure at 0x7ffa1b7bc2d0>"
      ]
     },
     "metadata": {},
     "output_type": "display_data"
    }
   ],
   "source": [
    "a = all_data.reset_index()\n",
    "a['diff'] = (a['amountLL'] - a['amountSS'])/a['amountSS']\n",
    "a['choice_LL'] = [int(not x) for x in a['choice_binary']]\n",
    "a = a[a['cond'] == 'Magnitude']\n",
    "sns.lmplot(x = 'k_eq', y = 'choice_LL', hue  = 'stim', logistic = True, \n",
    "           truncate  = True, units = 'sub', scatter = False, data = a)\n",
    "plt.ylabel('Probability of Larger Later Choice')\n",
    "plt.xlabel('Percent Value Difference Over Delay')"
   ]
  },
  {
   "cell_type": "code",
   "execution_count": 303,
   "metadata": {
    "collapsed": false
   },
   "outputs": [
    {
     "data": {
      "text/html": [
       "<div style=\"max-height:1000px;max-width:1500px;overflow:auto;\">\n",
       "<table border=\"1\" class=\"dataframe\">\n",
       "  <thead>\n",
       "    <tr style=\"text-align: right;\">\n",
       "      <th></th>\n",
       "      <th></th>\n",
       "      <th></th>\n",
       "      <th></th>\n",
       "      <th>index</th>\n",
       "      <th>trial</th>\n",
       "      <th>amountSS</th>\n",
       "      <th>amountLL</th>\n",
       "      <th>delayLL</th>\n",
       "      <th>choice</th>\n",
       "      <th>choice_binary</th>\n",
       "      <th>pct_diff</th>\n",
       "      <th>k_eq</th>\n",
       "    </tr>\n",
       "    <tr>\n",
       "      <th>sub</th>\n",
       "      <th>cond</th>\n",
       "      <th>stim</th>\n",
       "      <th>hemi</th>\n",
       "      <th></th>\n",
       "      <th></th>\n",
       "      <th></th>\n",
       "      <th></th>\n",
       "      <th></th>\n",
       "      <th></th>\n",
       "      <th></th>\n",
       "      <th></th>\n",
       "      <th></th>\n",
       "    </tr>\n",
       "  </thead>\n",
       "  <tbody>\n",
       "    <tr>\n",
       "      <th rowspan=\"30\" valign=\"top\">01</th>\n",
       "      <th rowspan=\"30\" valign=\"top\">Ctrl</th>\n",
       "      <th rowspan=\"30\" valign=\"top\">Pre</th>\n",
       "      <th>LEFT</th>\n",
       "      <td>0</td>\n",
       "      <td>1</td>\n",
       "      <td>14.00</td>\n",
       "      <td>14.14</td>\n",
       "      <td>14</td>\n",
       "      <td>SS</td>\n",
       "      <td>1</td>\n",
       "      <td>1</td>\n",
       "      <td>0.003578</td>\n",
       "    </tr>\n",
       "    <tr>\n",
       "      <th>LEFT</th>\n",
       "      <td>1</td>\n",
       "      <td>2</td>\n",
       "      <td>15.00</td>\n",
       "      <td>15.15</td>\n",
       "      <td>14</td>\n",
       "      <td>SS</td>\n",
       "      <td>1</td>\n",
       "      <td>1</td>\n",
       "      <td>0.000716</td>\n",
       "    </tr>\n",
       "    <tr>\n",
       "      <th>LEFT</th>\n",
       "      <td>2</td>\n",
       "      <td>3</td>\n",
       "      <td>27.00</td>\n",
       "      <td>27.27</td>\n",
       "      <td>28</td>\n",
       "      <td>SS</td>\n",
       "      <td>1</td>\n",
       "      <td>1</td>\n",
       "      <td>0.003558</td>\n",
       "    </tr>\n",
       "    <tr>\n",
       "      <th>LEFT</th>\n",
       "      <td>3</td>\n",
       "      <td>4</td>\n",
       "      <td>19.00</td>\n",
       "      <td>19.95</td>\n",
       "      <td>28</td>\n",
       "      <td>SS</td>\n",
       "      <td>1</td>\n",
       "      <td>5</td>\n",
       "      <td>0.014286</td>\n",
       "    </tr>\n",
       "    <tr>\n",
       "      <th>LEFT</th>\n",
       "      <td>4</td>\n",
       "      <td>5</td>\n",
       "      <td>28.00</td>\n",
       "      <td>29.40</td>\n",
       "      <td>28</td>\n",
       "      <td>SS</td>\n",
       "      <td>1</td>\n",
       "      <td>5</td>\n",
       "      <td>0.017873</td>\n",
       "    </tr>\n",
       "    <tr>\n",
       "      <th>LEFT</th>\n",
       "      <td>5</td>\n",
       "      <td>6</td>\n",
       "      <td>25.00</td>\n",
       "      <td>33.00</td>\n",
       "      <td>28</td>\n",
       "      <td>LL</td>\n",
       "      <td>0</td>\n",
       "      <td>10</td>\n",
       "      <td>0.007151</td>\n",
       "    </tr>\n",
       "    <tr>\n",
       "      <th>LEFT</th>\n",
       "      <td>6</td>\n",
       "      <td>7</td>\n",
       "      <td>21.00</td>\n",
       "      <td>22.05</td>\n",
       "      <td>14</td>\n",
       "      <td>SS</td>\n",
       "      <td>1</td>\n",
       "      <td>5</td>\n",
       "      <td>0.021432</td>\n",
       "    </tr>\n",
       "    <tr>\n",
       "      <th>LEFT</th>\n",
       "      <td>7</td>\n",
       "      <td>8</td>\n",
       "      <td>22.00</td>\n",
       "      <td>26.40</td>\n",
       "      <td>28</td>\n",
       "      <td>SS</td>\n",
       "      <td>1</td>\n",
       "      <td>20</td>\n",
       "      <td>0.000367</td>\n",
       "    </tr>\n",
       "    <tr>\n",
       "      <th>LEFT</th>\n",
       "      <td>8</td>\n",
       "      <td>8</td>\n",
       "      <td>22.00</td>\n",
       "      <td>26.40</td>\n",
       "      <td>28</td>\n",
       "      <td>LL</td>\n",
       "      <td>0</td>\n",
       "      <td>20</td>\n",
       "      <td>0.010713</td>\n",
       "    </tr>\n",
       "    <tr>\n",
       "      <th>LEFT</th>\n",
       "      <td>9</td>\n",
       "      <td>9</td>\n",
       "      <td>20.00</td>\n",
       "      <td>22.00</td>\n",
       "      <td>28</td>\n",
       "      <td>LL</td>\n",
       "      <td>0</td>\n",
       "      <td>10</td>\n",
       "      <td>0.007161</td>\n",
       "    </tr>\n",
       "    <tr>\n",
       "      <th>LEFT</th>\n",
       "      <td>10</td>\n",
       "      <td>10</td>\n",
       "      <td>10.00</td>\n",
       "      <td>11.00</td>\n",
       "      <td>14</td>\n",
       "      <td>LL</td>\n",
       "      <td>0</td>\n",
       "      <td>10</td>\n",
       "      <td>0.007160</td>\n",
       "    </tr>\n",
       "    <tr>\n",
       "      <th>LEFT</th>\n",
       "      <td>11</td>\n",
       "      <td>11</td>\n",
       "      <td>14.00</td>\n",
       "      <td>19.60</td>\n",
       "      <td>14</td>\n",
       "      <td>LL</td>\n",
       "      <td>0</td>\n",
       "      <td>40</td>\n",
       "      <td>0.003606</td>\n",
       "    </tr>\n",
       "    <tr>\n",
       "      <th>LEFT</th>\n",
       "      <td>12</td>\n",
       "      <td>12</td>\n",
       "      <td>18.00</td>\n",
       "      <td>25.20</td>\n",
       "      <td>14</td>\n",
       "      <td>LL</td>\n",
       "      <td>0</td>\n",
       "      <td>40</td>\n",
       "      <td>0.028552</td>\n",
       "    </tr>\n",
       "    <tr>\n",
       "      <th>LEFT</th>\n",
       "      <td>13</td>\n",
       "      <td>13</td>\n",
       "      <td>22.00</td>\n",
       "      <td>26.40</td>\n",
       "      <td>14</td>\n",
       "      <td>SS</td>\n",
       "      <td>1</td>\n",
       "      <td>20</td>\n",
       "      <td>0.017868</td>\n",
       "    </tr>\n",
       "    <tr>\n",
       "      <th>LEFT</th>\n",
       "      <td>14</td>\n",
       "      <td>14</td>\n",
       "      <td>23.00</td>\n",
       "      <td>32.20</td>\n",
       "      <td>28</td>\n",
       "      <td>SS</td>\n",
       "      <td>1</td>\n",
       "      <td>40</td>\n",
       "      <td>0.000338</td>\n",
       "    </tr>\n",
       "    <tr>\n",
       "      <th>LEFT</th>\n",
       "      <td>15</td>\n",
       "      <td>15</td>\n",
       "      <td>14.00</td>\n",
       "      <td>21.00</td>\n",
       "      <td>28</td>\n",
       "      <td>LL</td>\n",
       "      <td>0</td>\n",
       "      <td>50</td>\n",
       "      <td>0.028582</td>\n",
       "    </tr>\n",
       "    <tr>\n",
       "      <th>LEFT</th>\n",
       "      <td>16</td>\n",
       "      <td>16</td>\n",
       "      <td>18.00</td>\n",
       "      <td>23.40</td>\n",
       "      <td>14</td>\n",
       "      <td>SS</td>\n",
       "      <td>1</td>\n",
       "      <td>30</td>\n",
       "      <td>0.007133</td>\n",
       "    </tr>\n",
       "    <tr>\n",
       "      <th>LEFT</th>\n",
       "      <td>17</td>\n",
       "      <td>17</td>\n",
       "      <td>11.00</td>\n",
       "      <td>14.30</td>\n",
       "      <td>28</td>\n",
       "      <td>SS</td>\n",
       "      <td>1</td>\n",
       "      <td>30</td>\n",
       "      <td>0.007130</td>\n",
       "    </tr>\n",
       "    <tr>\n",
       "      <th>LEFT</th>\n",
       "      <td>18</td>\n",
       "      <td>18</td>\n",
       "      <td>26.00</td>\n",
       "      <td>33.80</td>\n",
       "      <td>28</td>\n",
       "      <td>SS</td>\n",
       "      <td>1</td>\n",
       "      <td>30</td>\n",
       "      <td>0.021442</td>\n",
       "    </tr>\n",
       "    <tr>\n",
       "      <th>LEFT</th>\n",
       "      <td>19</td>\n",
       "      <td>19</td>\n",
       "      <td>15.00</td>\n",
       "      <td>22.50</td>\n",
       "      <td>14</td>\n",
       "      <td>LL</td>\n",
       "      <td>0</td>\n",
       "      <td>50</td>\n",
       "      <td>0.003559</td>\n",
       "    </tr>\n",
       "    <tr>\n",
       "      <th>LEFT</th>\n",
       "      <td>20</td>\n",
       "      <td>20</td>\n",
       "      <td>25.00</td>\n",
       "      <td>37.50</td>\n",
       "      <td>14</td>\n",
       "      <td>LL</td>\n",
       "      <td>0</td>\n",
       "      <td>50</td>\n",
       "      <td>0.035696</td>\n",
       "    </tr>\n",
       "    <tr>\n",
       "      <th>RIGHT</th>\n",
       "      <td>0</td>\n",
       "      <td>1</td>\n",
       "      <td>23.36</td>\n",
       "      <td>24.53</td>\n",
       "      <td>14</td>\n",
       "      <td>SS</td>\n",
       "      <td>1</td>\n",
       "      <td>5</td>\n",
       "      <td>0.003578</td>\n",
       "    </tr>\n",
       "    <tr>\n",
       "      <th>RIGHT</th>\n",
       "      <td>1</td>\n",
       "      <td>2</td>\n",
       "      <td>13.96</td>\n",
       "      <td>14.10</td>\n",
       "      <td>14</td>\n",
       "      <td>SS</td>\n",
       "      <td>1</td>\n",
       "      <td>1</td>\n",
       "      <td>0.000716</td>\n",
       "    </tr>\n",
       "    <tr>\n",
       "      <th>RIGHT</th>\n",
       "      <td>2</td>\n",
       "      <td>3</td>\n",
       "      <td>23.59</td>\n",
       "      <td>25.94</td>\n",
       "      <td>28</td>\n",
       "      <td>SS</td>\n",
       "      <td>1</td>\n",
       "      <td>10</td>\n",
       "      <td>0.003558</td>\n",
       "    </tr>\n",
       "    <tr>\n",
       "      <th>RIGHT</th>\n",
       "      <td>3</td>\n",
       "      <td>4</td>\n",
       "      <td>28.15</td>\n",
       "      <td>39.41</td>\n",
       "      <td>28</td>\n",
       "      <td>SS</td>\n",
       "      <td>1</td>\n",
       "      <td>40</td>\n",
       "      <td>0.014286</td>\n",
       "    </tr>\n",
       "    <tr>\n",
       "      <th>RIGHT</th>\n",
       "      <td>4</td>\n",
       "      <td>5</td>\n",
       "      <td>22.44</td>\n",
       "      <td>33.67</td>\n",
       "      <td>28</td>\n",
       "      <td>SS</td>\n",
       "      <td>1</td>\n",
       "      <td>50</td>\n",
       "      <td>0.017873</td>\n",
       "    </tr>\n",
       "    <tr>\n",
       "      <th>RIGHT</th>\n",
       "      <td>5</td>\n",
       "      <td>6</td>\n",
       "      <td>25.17</td>\n",
       "      <td>30.21</td>\n",
       "      <td>28</td>\n",
       "      <td>LL</td>\n",
       "      <td>0</td>\n",
       "      <td>20</td>\n",
       "      <td>0.007151</td>\n",
       "    </tr>\n",
       "    <tr>\n",
       "      <th>RIGHT</th>\n",
       "      <td>6</td>\n",
       "      <td>7</td>\n",
       "      <td>23.63</td>\n",
       "      <td>30.72</td>\n",
       "      <td>14</td>\n",
       "      <td>LL</td>\n",
       "      <td>0</td>\n",
       "      <td>30</td>\n",
       "      <td>0.021432</td>\n",
       "    </tr>\n",
       "    <tr>\n",
       "      <th>RIGHT</th>\n",
       "      <td>7</td>\n",
       "      <td>8</td>\n",
       "      <td>18.48</td>\n",
       "      <td>18.67</td>\n",
       "      <td>28</td>\n",
       "      <td>LL</td>\n",
       "      <td>0</td>\n",
       "      <td>1</td>\n",
       "      <td>0.000367</td>\n",
       "    </tr>\n",
       "    <tr>\n",
       "      <th>RIGHT</th>\n",
       "      <td>8</td>\n",
       "      <td>9</td>\n",
       "      <td>21.47</td>\n",
       "      <td>27.91</td>\n",
       "      <td>28</td>\n",
       "      <td>LL</td>\n",
       "      <td>0</td>\n",
       "      <td>30</td>\n",
       "      <td>0.010713</td>\n",
       "    </tr>\n",
       "    <tr>\n",
       "      <th>...</th>\n",
       "      <th>...</th>\n",
       "      <th>...</th>\n",
       "      <th>...</th>\n",
       "      <td>...</td>\n",
       "      <td>...</td>\n",
       "      <td>...</td>\n",
       "      <td>...</td>\n",
       "      <td>...</td>\n",
       "      <td>...</td>\n",
       "      <td>...</td>\n",
       "      <td>...</td>\n",
       "      <td>...</td>\n",
       "    </tr>\n",
       "    <tr>\n",
       "      <th rowspan=\"30\" valign=\"top\">15</th>\n",
       "      <th rowspan=\"30\" valign=\"top\">Magnitude</th>\n",
       "      <th rowspan=\"10\" valign=\"top\">Sham</th>\n",
       "      <th>LEFT</th>\n",
       "      <td>170</td>\n",
       "      <td>11</td>\n",
       "      <td>2700.00</td>\n",
       "      <td>2808.00</td>\n",
       "      <td>28</td>\n",
       "      <td>LL</td>\n",
       "      <td>0</td>\n",
       "      <td>40</td>\n",
       "      <td>0.001429</td>\n",
       "    </tr>\n",
       "    <tr>\n",
       "      <th>LEFT</th>\n",
       "      <td>171</td>\n",
       "      <td>12</td>\n",
       "      <td>1400.00</td>\n",
       "      <td>1407.00</td>\n",
       "      <td>14</td>\n",
       "      <td>LL</td>\n",
       "      <td>0</td>\n",
       "      <td>5</td>\n",
       "      <td>0.000357</td>\n",
       "    </tr>\n",
       "    <tr>\n",
       "      <th>LEFT</th>\n",
       "      <td>172</td>\n",
       "      <td>13</td>\n",
       "      <td>1500.00</td>\n",
       "      <td>1501.50</td>\n",
       "      <td>28</td>\n",
       "      <td>LL</td>\n",
       "      <td>0</td>\n",
       "      <td>1</td>\n",
       "      <td>0.000036</td>\n",
       "    </tr>\n",
       "    <tr>\n",
       "      <th>LEFT</th>\n",
       "      <td>173</td>\n",
       "      <td>14</td>\n",
       "      <td>1800.00</td>\n",
       "      <td>1872.00</td>\n",
       "      <td>28</td>\n",
       "      <td>LL</td>\n",
       "      <td>0</td>\n",
       "      <td>40</td>\n",
       "      <td>0.001429</td>\n",
       "    </tr>\n",
       "    <tr>\n",
       "      <th>LEFT</th>\n",
       "      <td>174</td>\n",
       "      <td>15</td>\n",
       "      <td>2500.00</td>\n",
       "      <td>2502.50</td>\n",
       "      <td>14</td>\n",
       "      <td>LL</td>\n",
       "      <td>0</td>\n",
       "      <td>1</td>\n",
       "      <td>0.000071</td>\n",
       "    </tr>\n",
       "    <tr>\n",
       "      <th>LEFT</th>\n",
       "      <td>175</td>\n",
       "      <td>16</td>\n",
       "      <td>2900.00</td>\n",
       "      <td>2914.50</td>\n",
       "      <td>14</td>\n",
       "      <td>LL</td>\n",
       "      <td>0</td>\n",
       "      <td>5</td>\n",
       "      <td>0.000357</td>\n",
       "    </tr>\n",
       "    <tr>\n",
       "      <th>LEFT</th>\n",
       "      <td>176</td>\n",
       "      <td>17</td>\n",
       "      <td>2600.00</td>\n",
       "      <td>2652.00</td>\n",
       "      <td>28</td>\n",
       "      <td>LL</td>\n",
       "      <td>0</td>\n",
       "      <td>20</td>\n",
       "      <td>0.000714</td>\n",
       "    </tr>\n",
       "    <tr>\n",
       "      <th>LEFT</th>\n",
       "      <td>177</td>\n",
       "      <td>18</td>\n",
       "      <td>2400.00</td>\n",
       "      <td>2520.00</td>\n",
       "      <td>28</td>\n",
       "      <td>SS</td>\n",
       "      <td>1</td>\n",
       "      <td>50</td>\n",
       "      <td>0.001786</td>\n",
       "    </tr>\n",
       "    <tr>\n",
       "      <th>LEFT</th>\n",
       "      <td>178</td>\n",
       "      <td>19</td>\n",
       "      <td>2800.00</td>\n",
       "      <td>2940.00</td>\n",
       "      <td>28</td>\n",
       "      <td>LL</td>\n",
       "      <td>0</td>\n",
       "      <td>50</td>\n",
       "      <td>0.001786</td>\n",
       "    </tr>\n",
       "    <tr>\n",
       "      <th>LEFT</th>\n",
       "      <td>179</td>\n",
       "      <td>20</td>\n",
       "      <td>1700.00</td>\n",
       "      <td>1717.00</td>\n",
       "      <td>14</td>\n",
       "      <td>LL</td>\n",
       "      <td>0</td>\n",
       "      <td>10</td>\n",
       "      <td>0.000714</td>\n",
       "    </tr>\n",
       "    <tr>\n",
       "      <th rowspan=\"20\" valign=\"top\">TMS</th>\n",
       "      <th>LEFT</th>\n",
       "      <td>100</td>\n",
       "      <td>1</td>\n",
       "      <td>2300.00</td>\n",
       "      <td>2311.50</td>\n",
       "      <td>14</td>\n",
       "      <td>LL</td>\n",
       "      <td>0</td>\n",
       "      <td>5</td>\n",
       "      <td>0.000357</td>\n",
       "    </tr>\n",
       "    <tr>\n",
       "      <th>LEFT</th>\n",
       "      <td>101</td>\n",
       "      <td>2</td>\n",
       "      <td>2800.00</td>\n",
       "      <td>2802.80</td>\n",
       "      <td>14</td>\n",
       "      <td>LL</td>\n",
       "      <td>0</td>\n",
       "      <td>1</td>\n",
       "      <td>0.000072</td>\n",
       "    </tr>\n",
       "    <tr>\n",
       "      <th>LEFT</th>\n",
       "      <td>102</td>\n",
       "      <td>3</td>\n",
       "      <td>1500.00</td>\n",
       "      <td>1515.00</td>\n",
       "      <td>28</td>\n",
       "      <td>LL</td>\n",
       "      <td>0</td>\n",
       "      <td>10</td>\n",
       "      <td>0.000357</td>\n",
       "    </tr>\n",
       "    <tr>\n",
       "      <th>LEFT</th>\n",
       "      <td>103</td>\n",
       "      <td>4</td>\n",
       "      <td>1200.00</td>\n",
       "      <td>1248.00</td>\n",
       "      <td>28</td>\n",
       "      <td>LL</td>\n",
       "      <td>0</td>\n",
       "      <td>40</td>\n",
       "      <td>0.001429</td>\n",
       "    </tr>\n",
       "    <tr>\n",
       "      <th>LEFT</th>\n",
       "      <td>104</td>\n",
       "      <td>5</td>\n",
       "      <td>2600.00</td>\n",
       "      <td>2730.00</td>\n",
       "      <td>14</td>\n",
       "      <td>LL</td>\n",
       "      <td>0</td>\n",
       "      <td>50</td>\n",
       "      <td>0.003571</td>\n",
       "    </tr>\n",
       "    <tr>\n",
       "      <th>LEFT</th>\n",
       "      <td>105</td>\n",
       "      <td>6</td>\n",
       "      <td>2300.00</td>\n",
       "      <td>2346.00</td>\n",
       "      <td>28</td>\n",
       "      <td>LL</td>\n",
       "      <td>0</td>\n",
       "      <td>20</td>\n",
       "      <td>0.000714</td>\n",
       "    </tr>\n",
       "    <tr>\n",
       "      <th>LEFT</th>\n",
       "      <td>106</td>\n",
       "      <td>7</td>\n",
       "      <td>1300.00</td>\n",
       "      <td>1339.00</td>\n",
       "      <td>28</td>\n",
       "      <td>LL</td>\n",
       "      <td>0</td>\n",
       "      <td>30</td>\n",
       "      <td>0.001072</td>\n",
       "    </tr>\n",
       "    <tr>\n",
       "      <th>LEFT</th>\n",
       "      <td>107</td>\n",
       "      <td>8</td>\n",
       "      <td>2000.00</td>\n",
       "      <td>2002.00</td>\n",
       "      <td>14</td>\n",
       "      <td>SS</td>\n",
       "      <td>1</td>\n",
       "      <td>1</td>\n",
       "      <td>0.000071</td>\n",
       "    </tr>\n",
       "    <tr>\n",
       "      <th>LEFT</th>\n",
       "      <td>108</td>\n",
       "      <td>9</td>\n",
       "      <td>2700.00</td>\n",
       "      <td>2781.00</td>\n",
       "      <td>28</td>\n",
       "      <td>LL</td>\n",
       "      <td>0</td>\n",
       "      <td>30</td>\n",
       "      <td>0.001072</td>\n",
       "    </tr>\n",
       "    <tr>\n",
       "      <th>LEFT</th>\n",
       "      <td>109</td>\n",
       "      <td>10</td>\n",
       "      <td>2500.00</td>\n",
       "      <td>2525.00</td>\n",
       "      <td>28</td>\n",
       "      <td>LL</td>\n",
       "      <td>0</td>\n",
       "      <td>10</td>\n",
       "      <td>0.000357</td>\n",
       "    </tr>\n",
       "    <tr>\n",
       "      <th>LEFT</th>\n",
       "      <td>110</td>\n",
       "      <td>11</td>\n",
       "      <td>1400.00</td>\n",
       "      <td>1414.00</td>\n",
       "      <td>14</td>\n",
       "      <td>LL</td>\n",
       "      <td>0</td>\n",
       "      <td>10</td>\n",
       "      <td>0.000714</td>\n",
       "    </tr>\n",
       "    <tr>\n",
       "      <th>LEFT</th>\n",
       "      <td>111</td>\n",
       "      <td>12</td>\n",
       "      <td>1300.00</td>\n",
       "      <td>1306.50</td>\n",
       "      <td>28</td>\n",
       "      <td>LL</td>\n",
       "      <td>0</td>\n",
       "      <td>5</td>\n",
       "      <td>0.000179</td>\n",
       "    </tr>\n",
       "    <tr>\n",
       "      <th>LEFT</th>\n",
       "      <td>112</td>\n",
       "      <td>13</td>\n",
       "      <td>2600.00</td>\n",
       "      <td>2704.00</td>\n",
       "      <td>14</td>\n",
       "      <td>LL</td>\n",
       "      <td>0</td>\n",
       "      <td>40</td>\n",
       "      <td>0.002857</td>\n",
       "    </tr>\n",
       "    <tr>\n",
       "      <th>LEFT</th>\n",
       "      <td>113</td>\n",
       "      <td>14</td>\n",
       "      <td>1700.00</td>\n",
       "      <td>1785.00</td>\n",
       "      <td>28</td>\n",
       "      <td>LL</td>\n",
       "      <td>0</td>\n",
       "      <td>50</td>\n",
       "      <td>0.001786</td>\n",
       "    </tr>\n",
       "    <tr>\n",
       "      <th>LEFT</th>\n",
       "      <td>114</td>\n",
       "      <td>15</td>\n",
       "      <td>2500.00</td>\n",
       "      <td>2502.50</td>\n",
       "      <td>28</td>\n",
       "      <td>SS</td>\n",
       "      <td>1</td>\n",
       "      <td>1</td>\n",
       "      <td>0.000036</td>\n",
       "    </tr>\n",
       "    <tr>\n",
       "      <th>LEFT</th>\n",
       "      <td>115</td>\n",
       "      <td>16</td>\n",
       "      <td>2000.00</td>\n",
       "      <td>2080.00</td>\n",
       "      <td>14</td>\n",
       "      <td>LL</td>\n",
       "      <td>0</td>\n",
       "      <td>40</td>\n",
       "      <td>0.002857</td>\n",
       "    </tr>\n",
       "    <tr>\n",
       "      <th>LEFT</th>\n",
       "      <td>116</td>\n",
       "      <td>17</td>\n",
       "      <td>1500.00</td>\n",
       "      <td>1530.00</td>\n",
       "      <td>14</td>\n",
       "      <td>LL</td>\n",
       "      <td>0</td>\n",
       "      <td>20</td>\n",
       "      <td>0.001429</td>\n",
       "    </tr>\n",
       "    <tr>\n",
       "      <th>LEFT</th>\n",
       "      <td>117</td>\n",
       "      <td>18</td>\n",
       "      <td>2800.00</td>\n",
       "      <td>2856.00</td>\n",
       "      <td>28</td>\n",
       "      <td>SS</td>\n",
       "      <td>1</td>\n",
       "      <td>20</td>\n",
       "      <td>0.000714</td>\n",
       "    </tr>\n",
       "    <tr>\n",
       "      <th>LEFT</th>\n",
       "      <td>118</td>\n",
       "      <td>19</td>\n",
       "      <td>2300.00</td>\n",
       "      <td>2369.00</td>\n",
       "      <td>14</td>\n",
       "      <td>LL</td>\n",
       "      <td>0</td>\n",
       "      <td>30</td>\n",
       "      <td>0.002143</td>\n",
       "    </tr>\n",
       "    <tr>\n",
       "      <th>LEFT</th>\n",
       "      <td>119</td>\n",
       "      <td>20</td>\n",
       "      <td>2700.00</td>\n",
       "      <td>2713.50</td>\n",
       "      <td>14</td>\n",
       "      <td>LL</td>\n",
       "      <td>0</td>\n",
       "      <td>5</td>\n",
       "      <td>0.000357</td>\n",
       "    </tr>\n",
       "  </tbody>\n",
       "</table>\n",
       "<p>4860 rows × 9 columns</p>\n",
       "</div>"
      ],
      "text/plain": [
       "                          index  trial  amountSS  amountLL  delayLL choice  \\\n",
       "sub cond      stim hemi                                                      \n",
       "01  Ctrl      Pre  LEFT       0      1     14.00     14.14       14     SS   \n",
       "                   LEFT       1      2     15.00     15.15       14     SS   \n",
       "                   LEFT       2      3     27.00     27.27       28     SS   \n",
       "                   LEFT       3      4     19.00     19.95       28     SS   \n",
       "                   LEFT       4      5     28.00     29.40       28     SS   \n",
       "                   LEFT       5      6     25.00     33.00       28     LL   \n",
       "                   LEFT       6      7     21.00     22.05       14     SS   \n",
       "                   LEFT       7      8     22.00     26.40       28     SS   \n",
       "                   LEFT       8      8     22.00     26.40       28     LL   \n",
       "                   LEFT       9      9     20.00     22.00       28     LL   \n",
       "                   LEFT      10     10     10.00     11.00       14     LL   \n",
       "                   LEFT      11     11     14.00     19.60       14     LL   \n",
       "                   LEFT      12     12     18.00     25.20       14     LL   \n",
       "                   LEFT      13     13     22.00     26.40       14     SS   \n",
       "                   LEFT      14     14     23.00     32.20       28     SS   \n",
       "                   LEFT      15     15     14.00     21.00       28     LL   \n",
       "                   LEFT      16     16     18.00     23.40       14     SS   \n",
       "                   LEFT      17     17     11.00     14.30       28     SS   \n",
       "                   LEFT      18     18     26.00     33.80       28     SS   \n",
       "                   LEFT      19     19     15.00     22.50       14     LL   \n",
       "                   LEFT      20     20     25.00     37.50       14     LL   \n",
       "                   RIGHT      0      1     23.36     24.53       14     SS   \n",
       "                   RIGHT      1      2     13.96     14.10       14     SS   \n",
       "                   RIGHT      2      3     23.59     25.94       28     SS   \n",
       "                   RIGHT      3      4     28.15     39.41       28     SS   \n",
       "                   RIGHT      4      5     22.44     33.67       28     SS   \n",
       "                   RIGHT      5      6     25.17     30.21       28     LL   \n",
       "                   RIGHT      6      7     23.63     30.72       14     LL   \n",
       "                   RIGHT      7      8     18.48     18.67       28     LL   \n",
       "                   RIGHT      8      9     21.47     27.91       28     LL   \n",
       "...                         ...    ...       ...       ...      ...    ...   \n",
       "15  Magnitude Sham LEFT     170     11   2700.00   2808.00       28     LL   \n",
       "                   LEFT     171     12   1400.00   1407.00       14     LL   \n",
       "                   LEFT     172     13   1500.00   1501.50       28     LL   \n",
       "                   LEFT     173     14   1800.00   1872.00       28     LL   \n",
       "                   LEFT     174     15   2500.00   2502.50       14     LL   \n",
       "                   LEFT     175     16   2900.00   2914.50       14     LL   \n",
       "                   LEFT     176     17   2600.00   2652.00       28     LL   \n",
       "                   LEFT     177     18   2400.00   2520.00       28     SS   \n",
       "                   LEFT     178     19   2800.00   2940.00       28     LL   \n",
       "                   LEFT     179     20   1700.00   1717.00       14     LL   \n",
       "              TMS  LEFT     100      1   2300.00   2311.50       14     LL   \n",
       "                   LEFT     101      2   2800.00   2802.80       14     LL   \n",
       "                   LEFT     102      3   1500.00   1515.00       28     LL   \n",
       "                   LEFT     103      4   1200.00   1248.00       28     LL   \n",
       "                   LEFT     104      5   2600.00   2730.00       14     LL   \n",
       "                   LEFT     105      6   2300.00   2346.00       28     LL   \n",
       "                   LEFT     106      7   1300.00   1339.00       28     LL   \n",
       "                   LEFT     107      8   2000.00   2002.00       14     SS   \n",
       "                   LEFT     108      9   2700.00   2781.00       28     LL   \n",
       "                   LEFT     109     10   2500.00   2525.00       28     LL   \n",
       "                   LEFT     110     11   1400.00   1414.00       14     LL   \n",
       "                   LEFT     111     12   1300.00   1306.50       28     LL   \n",
       "                   LEFT     112     13   2600.00   2704.00       14     LL   \n",
       "                   LEFT     113     14   1700.00   1785.00       28     LL   \n",
       "                   LEFT     114     15   2500.00   2502.50       28     SS   \n",
       "                   LEFT     115     16   2000.00   2080.00       14     LL   \n",
       "                   LEFT     116     17   1500.00   1530.00       14     LL   \n",
       "                   LEFT     117     18   2800.00   2856.00       28     SS   \n",
       "                   LEFT     118     19   2300.00   2369.00       14     LL   \n",
       "                   LEFT     119     20   2700.00   2713.50       14     LL   \n",
       "\n",
       "                          choice_binary  pct_diff      k_eq  \n",
       "sub cond      stim hemi                                      \n",
       "01  Ctrl      Pre  LEFT               1         1  0.003578  \n",
       "                   LEFT               1         1  0.000716  \n",
       "                   LEFT               1         1  0.003558  \n",
       "                   LEFT               1         5  0.014286  \n",
       "                   LEFT               1         5  0.017873  \n",
       "                   LEFT               0        10  0.007151  \n",
       "                   LEFT               1         5  0.021432  \n",
       "                   LEFT               1        20  0.000367  \n",
       "                   LEFT               0        20  0.010713  \n",
       "                   LEFT               0        10  0.007161  \n",
       "                   LEFT               0        10  0.007160  \n",
       "                   LEFT               0        40  0.003606  \n",
       "                   LEFT               0        40  0.028552  \n",
       "                   LEFT               1        20  0.017868  \n",
       "                   LEFT               1        40  0.000338  \n",
       "                   LEFT               0        50  0.028582  \n",
       "                   LEFT               1        30  0.007133  \n",
       "                   LEFT               1        30  0.007130  \n",
       "                   LEFT               1        30  0.021442  \n",
       "                   LEFT               0        50  0.003559  \n",
       "                   LEFT               0        50  0.035696  \n",
       "                   RIGHT              1         5  0.003578  \n",
       "                   RIGHT              1         1  0.000716  \n",
       "                   RIGHT              1        10  0.003558  \n",
       "                   RIGHT              1        40  0.014286  \n",
       "                   RIGHT              1        50  0.017873  \n",
       "                   RIGHT              0        20  0.007151  \n",
       "                   RIGHT              0        30  0.021432  \n",
       "                   RIGHT              0         1  0.000367  \n",
       "                   RIGHT              0        30  0.010713  \n",
       "...                                 ...       ...       ...  \n",
       "15  Magnitude Sham LEFT               0        40  0.001429  \n",
       "                   LEFT               0         5  0.000357  \n",
       "                   LEFT               0         1  0.000036  \n",
       "                   LEFT               0        40  0.001429  \n",
       "                   LEFT               0         1  0.000071  \n",
       "                   LEFT               0         5  0.000357  \n",
       "                   LEFT               0        20  0.000714  \n",
       "                   LEFT               1        50  0.001786  \n",
       "                   LEFT               0        50  0.001786  \n",
       "                   LEFT               0        10  0.000714  \n",
       "              TMS  LEFT               0         5  0.000357  \n",
       "                   LEFT               0         1  0.000072  \n",
       "                   LEFT               0        10  0.000357  \n",
       "                   LEFT               0        40  0.001429  \n",
       "                   LEFT               0        50  0.003571  \n",
       "                   LEFT               0        20  0.000714  \n",
       "                   LEFT               0        30  0.001072  \n",
       "                   LEFT               1         1  0.000071  \n",
       "                   LEFT               0        30  0.001072  \n",
       "                   LEFT               0        10  0.000357  \n",
       "                   LEFT               0        10  0.000714  \n",
       "                   LEFT               0         5  0.000179  \n",
       "                   LEFT               0        40  0.002857  \n",
       "                   LEFT               0        50  0.001786  \n",
       "                   LEFT               1         1  0.000036  \n",
       "                   LEFT               0        40  0.002857  \n",
       "                   LEFT               0        20  0.001429  \n",
       "                   LEFT               1        20  0.000714  \n",
       "                   LEFT               0        30  0.002143  \n",
       "                   LEFT               0         5  0.000357  \n",
       "\n",
       "[4860 rows x 9 columns]"
      ]
     },
     "execution_count": 303,
     "metadata": {},
     "output_type": "execute_result"
    }
   ],
   "source": [
    "all_data"
   ]
  },
  {
   "cell_type": "code",
   "execution_count": null,
   "metadata": {
    "collapsed": true
   },
   "outputs": [],
   "source": [
    "3"
   ]
  }
 ],
 "metadata": {
  "kernelspec": {
   "display_name": "Python 2",
   "language": "python",
   "name": "python2"
  },
  "language_info": {
   "codemirror_mode": {
    "name": "ipython",
    "version": 2
   },
   "file_extension": ".py",
   "mimetype": "text/x-python",
   "name": "python",
   "nbconvert_exporter": "python",
   "pygments_lexer": "ipython2",
   "version": "2.7.12"
  }
 },
 "nbformat": 4,
 "nbformat_minor": 0
}
