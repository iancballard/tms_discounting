{
 "cells": [
  {
   "cell_type": "code",
   "execution_count": 1,
   "metadata": {
    "collapsed": false
   },
   "outputs": [],
   "source": [
    "import pandas as pd\n",
    "import numpy as np\n",
    "import math\n",
    "import glob\n",
    "import scipy\n",
    "from scipy.optimize import basinhopping\n",
    "from scipy.optimize import minimize\n",
    "import scipy.optimize as op\n",
    "import scipy.stats as stats\n",
    "import matplotlib.pyplot as plt\n",
    "import multiprocessing\n",
    "import seaborn as sns\n",
    "from statsmodels.formula.api import ols\n",
    "import statsmodels.api as sm \n",
    "import statsmodels.formula.api as smf\n",
    "%matplotlib inline"
   ]
  },
  {
   "cell_type": "code",
   "execution_count": 2,
   "metadata": {
    "collapsed": false
   },
   "outputs": [],
   "source": [
    "# get list of data files to process\n",
    "data_files = glob.glob('data/*txt')"
   ]
  },
  {
   "cell_type": "code",
   "execution_count": 3,
   "metadata": {
    "collapsed": false
   },
   "outputs": [],
   "source": [
    "# CONSTANTS NECESSARY FOR MAKING SENSE OF THE DATA FILES\n",
    "col_names = ['stim', 'cond', 'trial', 'amountSS',\n",
    "             'amountLL', 'delayLL', 'choice', 'space','pct_diff']\n",
    "stim = { 1:'Pre', 2:'TMS', 3:'Sham' }\n",
    "cond = { 1:'Ctrl', 2:'Hidden Zero', 3:'Magnitude' }\n",
    "choice = { 1:'SS', 0:'LL'}"
   ]
  },
  {
   "cell_type": "code",
   "execution_count": 33,
   "metadata": {
    "collapsed": false
   },
   "outputs": [],
   "source": [
    "all_data = []\n",
    "for f in data_files:\n",
    "    data = pd.read_csv(f, delimiter = '\\t', header = None,\n",
    "                      names = col_names, index_col = False)\n",
    "    \n",
    "    data['choice_binary'] = data['choice']\n",
    "    data['choice'] = [choice[x] for x in data['choice']]\n",
    "    data['cond'] = [cond[x] for x in data['cond']]\n",
    "    data['stim'] = [stim[x] for x in data['stim']]\n",
    "    \n",
    "    data = data[['stim', 'cond', 'trial', 'amountSS', \n",
    "                 'amountLL', 'delayLL', 'choice','choice_binary','pct_diff']]\n",
    "    \n",
    "    data['hemi'] = f.split('/')[1].split('s')[0]\n",
    "    data['sub'] = f.split('.')[0][-2:]\n",
    "     \n",
    "    all_data.append(data)\n",
    "all_data = pd.concat(all_data)"
   ]
  },
  {
   "cell_type": "code",
   "execution_count": 34,
   "metadata": {
    "collapsed": true
   },
   "outputs": [],
   "source": [
    "def find_K(A1,A2,d1,d2):\n",
    "    return (A2/A1 - 1)*1.0 / (d2 - (A2/A1)*d1)"
   ]
  },
  {
   "cell_type": "code",
   "execution_count": 35,
   "metadata": {
    "collapsed": false
   },
   "outputs": [],
   "source": [
    "#find k_eq for each choice\n",
    "for row in set(all_data.index):\n",
    "    k_eq = find_K(all_data.loc[row,'amountSS'].values[0],\n",
    "       all_data.loc[row,'amountLL'].values[0],\n",
    "       0,\n",
    "       all_data.loc[row,'delayLL'].values[0])\n",
    "    \n",
    "\n",
    "    all_data.loc[row,'k_eq'] = k_eq\n",
    "\n",
    "#drop trial level\n",
    "all_data = all_data.reset_index().set_index(['sub','cond','stim','hemi']).sort_index()"
   ]
  },
  {
   "cell_type": "code",
   "execution_count": 36,
   "metadata": {
    "collapsed": true
   },
   "outputs": [],
   "source": [
    "def hyperbolic(A,d,k):\n",
    "    return A * 1.0/(1.0+k*d)"
   ]
  },
  {
   "cell_type": "code",
   "execution_count": 37,
   "metadata": {
    "collapsed": false
   },
   "outputs": [],
   "source": [
    "def errf(params,sub_data):\n",
    "    #get params and bound on [0,1]\n",
    "    k,m = params\n",
    "    k = scipy.stats.logistic.cdf(k)\n",
    "    m = scipy.stats.logistic.cdf(m)*20\n",
    "    LL = 0\n",
    "    for trial in range(sub_data.shape[0]):\n",
    "        SV_SS = hyperbolic(sub_data.loc[trial,'amountSS'],\n",
    "                            0, #delayed rewards available now\n",
    "                            k)\n",
    "        SV_LL = hyperbolic(sub_data.loc[trial,'amountLL'],\n",
    "                            sub_data.loc[trial,'delayLL'],\n",
    "                            k)\n",
    "\n",
    "        p = 1 / (1 + np.exp(-1*(SV_SS-SV_LL)*m) )\n",
    "        if sub_data.loc[trial,'choice'] == 'LL':\n",
    "            p = 1-p\n",
    "            \n",
    "        if p < 1e-100:\n",
    "            p = 1e-100\n",
    "            \n",
    "        LL += np.log(p)\n",
    "    return LL*-1 #minimize negative log likelihood"
   ]
  },
  {
   "cell_type": "code",
   "execution_count": 9,
   "metadata": {
    "collapsed": true
   },
   "outputs": [],
   "source": [
    "in_tuples = list(set(all_data.index))"
   ]
  },
  {
   "cell_type": "code",
   "execution_count": 50,
   "metadata": {
    "collapsed": false
   },
   "outputs": [],
   "source": [
    "def run_data(in_tup):\n",
    "    #get the data for this experiment\n",
    "    sub_data = all_data.loc[in_tup].reset_index().copy()\n",
    "    \n",
    "    #check to see if they made all LL or all SS choices and set k appropriately\n",
    "    if sum(sub_data['choice'] == 'LL') == sub_data.shape[0]: #all larger later\n",
    "        k = min(sub_data['k_eq'])\n",
    "        return in_tup,k\n",
    "    elif sum(sub_data['choice'] == 'SS') == sub_data.shape[0]: #all SS\n",
    "        k = max(sub_data['k_eq'])\n",
    "        return in_tup,k\n",
    "    \n",
    "    #run minimization\n",
    "    else:\n",
    "        k_init = scipy.stats.logistic.ppf(sub_data['k_eq'].mean())\n",
    "        params = [k_init,-2]\n",
    "        minimizer_kwargs = {\"method\": 'CG', 'args':(sub_data)}\n",
    "        try:\n",
    "            res = basinhopping(errf, params, minimizer_kwargs=minimizer_kwargs,niter=50)\n",
    "        except:\n",
    "            return (in_tup,'Failed')\n",
    "        return (in_tup,res)"
   ]
  },
  {
   "cell_type": "code",
   "execution_count": null,
   "metadata": {
    "collapsed": false
   },
   "outputs": [],
   "source": [
    "pool = multiprocessing.Pool(54)\n",
    "res = pool.map(run_data,in_tuples)\n",
    "pool.terminate()\n",
    "pool.join()"
   ]
  },
  {
   "cell_type": "code",
   "execution_count": 14,
   "metadata": {
    "collapsed": false
   },
   "outputs": [],
   "source": [
    "results_df = {'ll':[], 'k':[], 'm':[],'sub':[],'exp':[],'hemi':[],'tms':[]}\n",
    "for x in res:\n",
    "    in_tup,o = x\n",
    "    sub, exp, tms, hemi = in_tup\n",
    "    if o == 'Failed':\n",
    "        print in_tup\n",
    "        \n",
    "    else:\n",
    "        results_df['ll'].append(o.fun*-1)\n",
    "        results_df['k'].append(scipy.stats.logistic.cdf(o.x[0]))\n",
    "        results_df['m'].append(scipy.stats.logistic.cdf(o.x[1])*20)\n",
    "        results_df['sub'].append(sub)\n",
    "        results_df['exp'].append(exp)\n",
    "        results_df['tms'].append(tms)\n",
    "        results_df['hemi'].append(hemi)\n",
    "results_df = pd.DataFrame(results_df)\n",
    "results_df = results_df.set_index(['sub','exp','tms','hemi'])"
   ]
  },
  {
   "cell_type": "code",
   "execution_count": 16,
   "metadata": {
    "collapsed": false
   },
   "outputs": [
    {
     "name": "stderr",
     "output_type": "stream",
     "text": [
      "/home/iballard/.local/lib/python2.7/site-packages/pandas/core/index.py:4307: PerformanceWarning: indexing past lexsort depth may impact performance.\n",
      "  PerformanceWarning)\n"
     ]
    }
   ],
   "source": [
    "#compute LLRT relative to to coin flip model\n",
    "for in_tup in in_tuples:\n",
    "    sub_data = all_data.loc[in_tup].reset_index().copy()\n",
    "    \n",
    "    null_ll = np.log(.5)*sub_data.shape[0]\n",
    "    ll = results_df.loc[in_tup,'ll']\n",
    "    ratio = 2*(ll - null_ll)\n",
    "    test_stat = stats.chi2.sf(ratio,2)\n",
    "    \n",
    "    results_df.loc[in_tup,'chi'] = test_stat"
   ]
  },
  {
   "cell_type": "code",
   "execution_count": 18,
   "metadata": {
    "collapsed": false
   },
   "outputs": [],
   "source": [
    "#log transform k\n",
    "results_df = results_df.reset_index()\n",
    "results_df['logk'] = np.log(results_df['k'])"
   ]
  },
  {
   "cell_type": "code",
   "execution_count": 19,
   "metadata": {
    "collapsed": false
   },
   "outputs": [],
   "source": [
    "#average over hemispheres\n",
    "r = results_df.groupby(['exp','tms','sub']).mean().reset_index()"
   ]
  },
  {
   "cell_type": "code",
   "execution_count": 21,
   "metadata": {
    "collapsed": false
   },
   "outputs": [
    {
     "data": {
      "text/plain": [
       "<matplotlib.text.Text at 0x7ffa27672810>"
      ]
     },
     "execution_count": 21,
     "metadata": {},
     "output_type": "execute_result"
    },
    {
     "data": {
      "image/png": "[encoded data removed]",
      "text/plain": [
       "<matplotlib.figure.Figure at 0x7ffa2771fad0>"
      ]
     },
     "metadata": {},
     "output_type": "display_data"
    }
   ],
   "source": [
    "sns.barplot(x = 'tms', y = 'logk',hue = 'exp' , data = r)\n",
    "plt.ylabel('k')"
   ]
  },
  {
   "cell_type": "code",
   "execution_count": 22,
   "metadata": {
    "collapsed": false
   },
   "outputs": [
    {
     "data": {
      "text/plain": [
       "<matplotlib.axes._subplots.AxesSubplot at 0x7ffa2759c8d0>"
      ]
     },
     "execution_count": 22,
     "metadata": {},
     "output_type": "execute_result"
    },
    {
     "data": {
      "image/png": "[encoded data removed]",
      "text/plain": [
       "<matplotlib.figure.Figure at 0x7ffa277069d0>"
      ]
     },
     "metadata": {},
     "output_type": "display_data"
    }
   ],
   "source": [
    "pre = r[r['tms'] !='Sham']\n",
    "test = pre[pre['exp'] != '']\n",
    "sns.barplot(x = 'tms', y = 'logk',hue = 'exp' , data = test)\n"
   ]
  },
  {
   "cell_type": "code",
   "execution_count": 173,
   "metadata": {
    "collapsed": false
   },
   "outputs": [],
   "source": [
    "results_df = results_df.set_index(['sub','exp','tms','hemi'])"
   ]
  },
  {
   "cell_type": "markdown",
   "metadata": {},
   "source": [
    "# Percent SS Analysis"
   ]
  },
  {
   "cell_type": "code",
   "execution_count": 45,
   "metadata": {
    "collapsed": false,
    "scrolled": true
   },
   "outputs": [
    {
     "data": {
      "text/plain": [
       "<matplotlib.text.Text at 0x7ffa271be210>"
      ]
     },
     "execution_count": 45,
     "metadata": {},
     "output_type": "execute_result"
    },
    {
     "data": {
      "image/png": "[encoded data removed]",
      "text/plain": [
       "<matplotlib.figure.Figure at 0x7ffa2719d790>"
      ]
     },
     "metadata": {},
     "output_type": "display_data"
    }
   ],
   "source": [
    "perc_df =all_data.reset_index().groupby(['sub','stim','cond']).mean().reset_index()\n",
    "sns.barplot(x = 'stim', y = 'choice_binary',hue = 'cond' , data = perc_df)\n",
    "plt.ylabel('p(SS)')"
   ]
  },
  {
   "cell_type": "code",
   "execution_count": 46,
   "metadata": {
    "collapsed": false
   },
   "outputs": [
    {
     "name": "stdout",
     "output_type": "stream",
     "text": [
      "                   Mixed Linear Model Regression Results\n",
      "===========================================================================\n",
      "Model:                  MixedLM      Dependent Variable:      choice_binary\n",
      "No. Observations:       135          Method:                  REML         \n",
      "No. Groups:             15           Scale:                   0.0134       \n",
      "Min. group size:        9            Likelihood:              70.9916      \n",
      "Max. group size:        9            Converged:               Yes          \n",
      "Mean group size:        9.0                                                \n",
      "---------------------------------------------------------------------------\n",
      "                                 Coef.  Std.Err.   z    P>|z| [0.025 0.975]\n",
      "---------------------------------------------------------------------------\n",
      "Intercept                         0.556    0.034 16.121 0.000  0.488  0.623\n",
      "stim[T.Sham]                     -0.011    0.042 -0.254 0.800 -0.094  0.072\n",
      "stim[T.TMS]                       0.071    0.042  1.677 0.094 -0.012  0.154\n",
      "cond[T.Hidden Zero]              -0.090    0.042 -2.129 0.033 -0.173 -0.007\n",
      "cond[T.Magnitude]                -0.269    0.042 -6.360 0.000 -0.352 -0.186\n",
      "stim[T.Sham]:cond[T.Hidden Zero]  0.020    0.060  0.335 0.738 -0.097  0.137\n",
      "stim[T.TMS]:cond[T.Hidden Zero]   0.052    0.060  0.864 0.387 -0.066  0.169\n",
      "stim[T.Sham]:cond[T.Magnitude]    0.051    0.060  0.848 0.396 -0.067  0.168\n",
      "stim[T.TMS]:cond[T.Magnitude]     0.292    0.060  4.888 0.000  0.175  0.410\n",
      "Intercept RE                      0.004    0.021                           \n",
      "===========================================================================\n",
      "\n"
     ]
    },
    {
     "name": "stderr",
     "output_type": "stream",
     "text": [
      "/home/iballard/.local/lib/python2.7/site-packages/statsmodels/regression/mixed_linear_model.py:1717: ConvergenceWarning: The MLE may be on the boundary of the parameter space.\n",
      "  warnings.warn(msg, ConvergenceWarning)\n"
     ]
    }
   ],
   "source": [
    "model_str = 'choice_binary ~ stim*cond'\n",
    "mixedfx = smf.mixedlm(model_str, perc_df, groups = perc_df['sub'])    \n",
    "mixedfx = mixedfx.fit()\n",
    "print mixedfx.summary()"
   ]
  },
  {
   "cell_type": "code",
   "execution_count": null,
   "metadata": {
    "collapsed": true
   },
   "outputs": [],
   "source": []
  }
 ],
 "metadata": {
  "kernelspec": {
   "display_name": "Python 2",
   "language": "python",
   "name": "python2"
  },
  "language_info": {
   "codemirror_mode": {
    "name": "ipython",
    "version": 2
   },
   "file_extension": ".py",
   "mimetype": "text/x-python",
   "name": "python",
   "nbconvert_exporter": "python",
   "pygments_lexer": "ipython2",
   "version": "2.7.13"
  }
 },
 "nbformat": 4,
 "nbformat_minor": 0
}
