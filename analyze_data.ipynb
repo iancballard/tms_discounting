{
 "cells": [
  {
   "cell_type": "code",
   "execution_count": 1,
   "metadata": {},
   "outputs": [
    {
     "name": "stderr",
     "output_type": "stream",
     "text": [
      "//anaconda/lib/python2.7/site-packages/statsmodels/compat/pandas.py:56: FutureWarning: The pandas.core.datetools module is deprecated and will be removed in a future version. Please use the pandas.tseries module instead.\n",
      "  from pandas.core import datetools\n"
     ]
    }
   ],
   "source": [
    "import pandas as pd\n",
    "import numpy as np\n",
    "import math\n",
    "import glob\n",
    "import scipy\n",
    "import os.path as op\n",
    "from scipy.optimize import basinhopping\n",
    "from scipy.optimize import minimize\n",
    "import scipy.stats as stats\n",
    "import matplotlib.pyplot as plt\n",
    "import multiprocessing\n",
    "import seaborn as sns\n",
    "from statsmodels.formula.api import ols\n",
    "import statsmodels.api as sm \n",
    "import statsmodels.formula.api as smf\n",
    "\n",
    "#r stuff\n",
    "import rpy2\n",
    "import rpy2.robjects as robjects\n",
    "import rpy2.robjects.packages as rpackages\n",
    "from rpy2.robjects.vectors import StrVector\n",
    "from rpy2.robjects.packages import importr\n",
    "from rpy2.robjects import pandas2ri\n",
    "pandas2ri.activate()\n",
    "from rpy2.robjects import r\n",
    "base = importr('base')\n",
    "afex = importr('afex') \n",
    "lme4 = importr(\"lme4\")\n",
    "\n",
    "%matplotlib inline"
   ]
  },
  {
   "cell_type": "code",
   "execution_count": 2,
   "metadata": {},
   "outputs": [
    {
     "data": {
      "image/png": "[encoded data removed]",
      "text/plain": [
       "<matplotlib.figure.Figure at 0x10a84c6d0>"
      ]
     },
     "metadata": {},
     "output_type": "display_data"
    }
   ],
   "source": [
    "flatui = [\"#9b59b6\", \"#3498db\", \"#2ecc71\",\"#fcbf4a\", \"#ed5b61\", \"#e52c66\"]\n",
    "sns.palplot(sns.color_palette(flatui))"
   ]
  },
  {
   "cell_type": "code",
   "execution_count": 3,
   "metadata": {
    "collapsed": true
   },
   "outputs": [],
   "source": [
    "# get list of data files to process\n",
    "data_files = glob.glob('data/*txt')"
   ]
  },
  {
   "cell_type": "code",
   "execution_count": 4,
   "metadata": {
    "collapsed": true
   },
   "outputs": [],
   "source": [
    "# CONSTANTS NECESSARY FOR MAKING SENSE OF THE DATA FILES\n",
    "col_names = ['stim', 'cond', 'trial', 'amountSS',\n",
    "             'amountLL', 'delayLL', 'choice', 'space','pct_diff']\n",
    "stim = { 1:'Pre', 2:'TMS', 3:'Sham' }\n",
    "cond = { 1:'Ctrl', 2:'Hidden Zero', 3:'Magnitude' }\n",
    "choice = { 1:'SS', 0:'LL'}"
   ]
  },
  {
   "cell_type": "code",
   "execution_count": 5,
   "metadata": {
    "collapsed": true
   },
   "outputs": [],
   "source": [
    "all_data = []\n",
    "for f in data_files:\n",
    "    data = pd.read_csv(f, delimiter = '\\t', header = None,\n",
    "                      names = col_names, index_col = False)\n",
    "    \n",
    "    data['choice_binary'] = data['choice']\n",
    "    data['choice'] = [choice[x] for x in data['choice']]\n",
    "    data['cond'] = [cond[x] for x in data['cond']]\n",
    "    data['stim'] = [stim[x] for x in data['stim']]\n",
    "    \n",
    "    data = data[['stim', 'cond', 'trial', 'amountSS', \n",
    "                 'amountLL', 'delayLL', 'choice','choice_binary','pct_diff']]\n",
    "    \n",
    "    data['hemi'] = f.split('/')[1].split('s')[0]\n",
    "    data['sub'] = f.split('.')[0][-2:]\n",
    "     \n",
    "    all_data.append(data)\n",
    "all_data = pd.concat(all_data)\n"
   ]
  },
  {
   "cell_type": "code",
   "execution_count": 6,
   "metadata": {
    "collapsed": true
   },
   "outputs": [],
   "source": [
    "def find_K(A1,A2,d1,d2):\n",
    "    return (A2/A1 - 1)*1.0 / (d2 - (A2/A1)*d1)"
   ]
  },
  {
   "cell_type": "code",
   "execution_count": 7,
   "metadata": {
    "collapsed": true
   },
   "outputs": [],
   "source": [
    "#find k_eq for each choice\n",
    "for row in set(all_data.index):\n",
    "    k_eq = find_K(all_data.loc[row,'amountSS'].values[0],\n",
    "       all_data.loc[row,'amountLL'].values[0],\n",
    "       0,\n",
    "       all_data.loc[row,'delayLL'].values[0])\n",
    "    \n",
    "\n",
    "    all_data.loc[row,'k_eq'] = k_eq\n",
    "\n",
    "#drop trial level\n",
    "all_data = all_data.reset_index().set_index(['sub','cond','stim','hemi']).sort_index()"
   ]
  },
  {
   "cell_type": "code",
   "execution_count": 8,
   "metadata": {
    "collapsed": true
   },
   "outputs": [],
   "source": [
    "def hyperbolic(A,d,k):\n",
    "    return A * 1.0/(1.0+k*d)"
   ]
  },
  {
   "cell_type": "code",
   "execution_count": 9,
   "metadata": {
    "collapsed": true
   },
   "outputs": [],
   "source": [
    "def errf(params,sub_data):\n",
    "    #get params and bound on [0,1]\n",
    "    k,m = params\n",
    "    k = scipy.stats.logistic.cdf(k)\n",
    "    m = scipy.stats.logistic.cdf(m)*20\n",
    "    LL = 0\n",
    "    for trial in range(sub_data.shape[0]):\n",
    "        SV_SS = hyperbolic(sub_data.loc[trial,'amountSS'],\n",
    "                            0, #delayed rewards available now\n",
    "                            k)\n",
    "        SV_LL = hyperbolic(sub_data.loc[trial,'amountLL'],\n",
    "                            sub_data.loc[trial,'delayLL'],\n",
    "                            k)\n",
    "\n",
    "        p = 1 / (1 + np.exp(-1*(SV_SS-SV_LL)*m) )\n",
    "        if sub_data.loc[trial,'choice'] == 'LL':\n",
    "            p = 1-p\n",
    "            \n",
    "        if p < 1e-100:\n",
    "            p = 1e-100\n",
    "            \n",
    "        LL += np.log(p)\n",
    "    return LL*-1 #minimize negative log likelihood"
   ]
  },
  {
   "cell_type": "code",
   "execution_count": 10,
   "metadata": {
    "collapsed": true
   },
   "outputs": [],
   "source": [
    "in_tuples = list(set(all_data.index))"
   ]
  },
  {
   "cell_type": "code",
   "execution_count": 11,
   "metadata": {
    "collapsed": true
   },
   "outputs": [],
   "source": [
    "def run_data(in_tup):\n",
    "    #get the data for this experiment\n",
    "    sub_data = all_data.loc[in_tup].reset_index().copy()\n",
    "    sub, exp, tms, hemi = in_tup\n",
    "    \n",
    "    #check to see if they made all LL or all SS choices and set k appropriately\n",
    "    if sum(sub_data['choice'] == 'LL') == sub_data.shape[0]: #all larger later\n",
    "        k = min(sub_data['k_eq'])\n",
    "        return in_tup,k\n",
    "    elif sum(sub_data['choice'] == 'SS') == sub_data.shape[0]: #all SS\n",
    "        k = max(sub_data['k_eq'])\n",
    "        return in_tup,k\n",
    "    \n",
    "    #run minimization\n",
    "    else:\n",
    "        k_init = scipy.stats.logistic.ppf(all_data.median()['k_eq'])\n",
    "        m_init = -5\n",
    "        if exp == 'Magnitude':\n",
    "            m_init = scipy.stats.logistic.cdf(m_init)/10.0\n",
    "            m_init = scipy.stats.logistic.ppf(m_init)\n",
    "        params = [k_init,m_init]\n",
    "        minimizer_kwargs = {\"method\": 'CG', 'args':(sub_data)}\n",
    "        try:\n",
    "            res = basinhopping(errf, params, minimizer_kwargs=minimizer_kwargs,niter=50)\n",
    "        except:\n",
    "            return (in_tup,'Failed')\n",
    "        return (in_tup,res)"
   ]
  },
  {
   "cell_type": "markdown",
   "metadata": {},
   "source": [
    "# If running fits, execute the next two cells"
   ]
  },
  {
   "cell_type": "code",
   "execution_count": 12,
   "metadata": {
    "collapsed": true
   },
   "outputs": [],
   "source": [
    "# pool = multiprocessing.Pool(54)\n",
    "# res = pool.map(run_data,in_tuples)\n",
    "# pool.terminate()\n",
    "# pool.join()"
   ]
  },
  {
   "cell_type": "code",
   "execution_count": 13,
   "metadata": {
    "collapsed": true
   },
   "outputs": [],
   "source": [
    "# results_df = {'ll':[], 'k':[], 'm':[],'sub':[],'exp':[],'hemi':[],'tms':[]}\n",
    "# for x in res:\n",
    "#     in_tup,o = x\n",
    "#     sub, exp, tms, hemi = in_tup\n",
    "#     if o == 'Failed':\n",
    "#         print in_tup\n",
    "        \n",
    "#     else:\n",
    "#         results_df['ll'].append(o.fun*-1)\n",
    "#         results_df['k'].append(scipy.stats.logistic.cdf(o.x[0]))\n",
    "#         results_df['m'].append(scipy.stats.logistic.cdf(o.x[1])*20)\n",
    "#         results_df['sub'].append(sub)\n",
    "#         results_df['exp'].append(exp)\n",
    "#         results_df['tms'].append(tms)\n",
    "#         results_df['hemi'].append(hemi)\n",
    "# results_df = pd.DataFrame(results_df)\n",
    "# results_df['logk'] = np.log(results_df['k'])\n",
    "# results_df.to_csv(op.abspath('./k_fits_new.csv'), index = False)\n",
    "# results_df = results_df.set_index(['sub','exp','tms','hemi'])"
   ]
  },
  {
   "cell_type": "markdown",
   "metadata": {},
   "source": [
    "# Analyze Data"
   ]
  },
  {
   "cell_type": "code",
   "execution_count": 14,
   "metadata": {
    "collapsed": true
   },
   "outputs": [],
   "source": [
    "#load data\n",
    "results_df = pd.read_csv(op.abspath('./k_fits_new.csv'))\n",
    "results_df['logk'] = np.log(results_df['k'])\n",
    "results_df['sub_id'] = [str(x) + y for x,y in zip(results_df['sub'],results_df['hemi'])]\n",
    "results_df['logk'] = np.log(results_df['k'])"
   ]
  },
  {
   "cell_type": "markdown",
   "metadata": {},
   "source": [
    "## First check out all the data"
   ]
  },
  {
   "cell_type": "code",
   "execution_count": 15,
   "metadata": {
    "collapsed": true
   },
   "outputs": [],
   "source": [
    "def remove_intercept_variance(x, group_mean):\n",
    "    return x - x.mean() + group_mean"
   ]
  },
  {
   "cell_type": "code",
   "execution_count": 16,
   "metadata": {
    "collapsed": true
   },
   "outputs": [],
   "source": [
    "results_df['logk_within'] = results_df.groupby('sub_id').logk.transform(remove_intercept_variance,\n",
    "                                                                  results_df.logk.mean())"
   ]
  },
  {
   "cell_type": "code",
   "execution_count": 17,
   "metadata": {},
   "outputs": [
    {
     "data": {
      "image/png": "[encoded data removed]",
      "text/plain": [
       "<matplotlib.figure.Figure at 0x10ac49fd0>"
      ]
     },
     "metadata": {},
     "output_type": "display_data"
    }
   ],
   "source": [
    "tms_map = {'Pre':'Baseline', 'Sham':'Sham', 'TMS':'rTMS'}\n",
    "results_df['tms_fig'] = [tms_map[x] for x in results_df['tms']]\n",
    "exp_map = {'Ctrl':'Control', 'Hidden Zero':'Hidden Zero', 'Magnitude':'Magnitude'}\n",
    "results_df['exp_fig'] = [exp_map[x] for x in results_df['exp']]\n",
    "\n",
    "sns.set_context('paper',font_scale = 2,rc={\"figure.figsize\": (14, 7)})\n",
    "sns.set_style(\"white\")\n",
    "ax = sns.pointplot(x = 'tms_fig',\n",
    "            y = 'logk_within',\n",
    "            hue = 'exp_fig',\n",
    "            order = ['Baseline','Sham','rTMS'], \n",
    "            data = results_df,\n",
    "            dodge = .05,\n",
    "            palette = flatui,\n",
    "            kwargs = {'error_kw':dict(ecolor='gray')})\n",
    "sns.despine()\n",
    "plt.ylabel('Impulsivity [log(k)]')\n",
    "plt.xlabel('')\n",
    "l = ax.legend()\n",
    "l.set_title('')\n",
    "plt.legend(bbox_to_anchor=(.9, .7), loc=2, borderaxespad=0.)\n",
    "plt.savefig(op.abspath('./figs/all_conds.png'), dpi = 600, bbox_inches = 'tight')"
   ]
  },
  {
   "cell_type": "markdown",
   "metadata": {},
   "source": [
    "### Next see if any effects vary by hemisphere"
   ]
  },
  {
   "cell_type": "code",
   "execution_count": 62,
   "metadata": {},
   "outputs": [
    {
     "data": {
      "text/plain": [
       "<seaborn.axisgrid.FacetGrid at 0x11ad4ac50>"
      ]
     },
     "execution_count": 62,
     "metadata": {},
     "output_type": "execute_result"
    },
    {
     "data": {
      "image/png": "[encoded data removed]",
      "text/plain": [
       "<matplotlib.figure.Figure at 0x11ad4ae90>"
      ]
     },
     "metadata": {},
     "output_type": "display_data"
    }
   ],
   "source": [
    "sns.factorplot(x = 'tms',\n",
    "               y = 'logk_within',\n",
    "               hue = 'exp',\n",
    "               col = 'hemi',\n",
    "               order = ['Pre','Sham','TMS'],\n",
    "               data = results_df)"
   ]
  },
  {
   "cell_type": "markdown",
   "metadata": {},
   "source": [
    "## Check out Magnitude Effect"
   ]
  },
  {
   "cell_type": "code",
   "execution_count": 63,
   "metadata": {},
   "outputs": [
    {
     "data": {
      "image/png": "[encoded data removed]",
      "text/plain": [
       "<matplotlib.figure.Figure at 0x11adc7890>"
      ]
     },
     "metadata": {},
     "output_type": "display_data"
    }
   ],
   "source": [
    "mag = results_df[results_df['exp'] != 'Hidden Zero'].copy()\n",
    "mag['logk_within'] = mag.groupby('sub_id').logk.transform(remove_intercept_variance,\n",
    "                                                                  mag.logk.mean())\n",
    "mag['TMS Condition'] = mag['tms']\n",
    "sns.factorplot(x = 'TMS Condition',\n",
    "            y = 'logk_within',\n",
    "            hue = 'exp' ,\n",
    "            order = ['Pre','Sham','TMS'],\n",
    "            data = mag)\n",
    "plt.ylabel('Impulsivity (logk)')\n",
    "sns.despine()\n",
    "plt.savefig(op.abspath('./figs/Magnitude.png'), dpi = 300)"
   ]
  },
  {
   "cell_type": "markdown",
   "metadata": {},
   "source": [
    "### First assess whether the effect is significant when comparing to sham"
   ]
  },
  {
   "cell_type": "code",
   "execution_count": 153,
   "metadata": {
    "collapsed": true
   },
   "outputs": [],
   "source": [
    "sham = mag[mag['tms'] !='Pre']"
   ]
  },
  {
   "cell_type": "code",
   "execution_count": 154,
   "metadata": {},
   "outputs": [
    {
     "name": "stdout",
     "output_type": "stream",
     "text": [
      "Anova Table (Type 3 tests)\n",
      "\n",
      "Response: logk\n",
      "        Effect    df   MSE         F   ges p.value\n",
      "1         hemi 1, 25 85.17      0.35  .005     .56\n",
      "2          exp 1, 25 48.45 43.75 ***   .27  <.0001\n",
      "3     hemi:exp 1, 25 48.45      0.09 .0007     .77\n",
      "4          tms 1, 25 74.71   9.57 **   .11    .005\n",
      "5     hemi:tms 1, 25 74.71      0.04 .0005     .85\n",
      "6      exp:tms 1, 25 21.30 49.27 ***   .15  <.0001\n",
      "7 hemi:exp:tms 1, 25 21.30      0.71  .003     .41\n",
      "\n",
      "Sphericity correction method: GG \n",
      "\n"
     ]
    }
   ],
   "source": [
    "model = afex.aov_ez('sub_id', 'logk', data = sham, within=['exp','tms'], between = ['hemi'])\n",
    "print(model)"
   ]
  },
  {
   "cell_type": "code",
   "execution_count": 475,
   "metadata": {},
   "outputs": [
    {
     "name": "stdout",
     "output_type": "stream",
     "text": [
      "tms right Ttest_relResult(statistic=1.3567303443801471, pvalue=0.20205651181755452)\n",
      "tms left Ttest_relResult(statistic=0.257798958951104, pvalue=0.80031291107642921)\n",
      "tms both Ttest_relResult(statistic=0.69306846180328108, pvalue=0.4944116043253961)\n",
      "mag Ttest_relResult(statistic=-7.8842386145200054, pvalue=2.3223345130670767e-08)\n",
      "mag tms Ttest_relResult(statistic=-2.4004197109644783, pvalue=0.02382814250063945)\n"
     ]
    }
   ],
   "source": [
    "#it looks like this may be a disordinal situation where the interaction\n",
    "#is driving the main effect. Since we are interested in whether we replicated the Figner finding,\n",
    "#conduct some post-hoc t-tests\n",
    "ctrl = sham.set_index(['exp','hemi','tms']).sort_index().loc[('Ctrl','RIGHT')]\n",
    "a = ctrl.loc['Sham'].sort_values(by = 'sub_id')['logk'].values\n",
    "b = ctrl.loc['TMS'].sort_values(by = 'sub_id')['logk'].values\n",
    "print 'tms','right', scipy.stats.ttest_rel(a,b)\n",
    "\n",
    "ctrl = sham.set_index(['exp','hemi','tms']).sort_index().loc[('Ctrl','LEFT')]\n",
    "a = ctrl.loc['Sham'].sort_values(by = 'sub_id')['logk'].values\n",
    "b = ctrl.loc['TMS'].sort_values(by = 'sub_id')['logk'].values\n",
    "print 'tms','left', scipy.stats.ttest_rel(a,b)\n",
    "\n",
    "ctrl = sham.set_index(['exp','tms']).sort_index().loc[('Ctrl')]\n",
    "a = ctrl.loc['Sham'].sort_values(by = 'sub_id')['logk'].values\n",
    "b = ctrl.loc['TMS'].sort_values(by = 'sub_id')['logk'].values\n",
    "print 'tms','both', scipy.stats.ttest_rel(a,b)\n",
    "\n",
    "ctrl = sham.set_index(['tms','exp']).sort_index().loc[('Sham')]\n",
    "a = ctrl.loc['Magnitude'].sort_values(by = 'sub_id')['logk'].values\n",
    "b = ctrl.loc['Ctrl'].sort_values(by = 'sub_id')['logk'].values\n",
    "print 'mag',scipy.stats.ttest_rel(a,b)\n",
    "\n",
    "ctrl = sham.set_index(['tms','exp']).sort_index().loc[('TMS')]\n",
    "a = ctrl.loc['Magnitude'].sort_values(by = 'sub_id')['logk'].values\n",
    "b = ctrl.loc['Ctrl'].sort_values(by = 'sub_id')['logk'].values\n",
    "print 'mag tms',scipy.stats.ttest_rel(a,b)"
   ]
  },
  {
   "cell_type": "markdown",
   "metadata": {},
   "source": [
    "## Next assess the effect relative to the pre-test"
   ]
  },
  {
   "cell_type": "code",
   "execution_count": 158,
   "metadata": {
    "collapsed": true
   },
   "outputs": [],
   "source": [
    "pre = mag[mag['tms'] !='Sham']"
   ]
  },
  {
   "cell_type": "code",
   "execution_count": 156,
   "metadata": {},
   "outputs": [
    {
     "name": "stdout",
     "output_type": "stream",
     "text": [
      "Anova Table (Type 3 tests)\n",
      "\n",
      "Response: logk\n",
      "        Effect    df   MSE          F   ges p.value\n",
      "1         hemi 1, 25 77.20       0.02 .0003     .89\n",
      "2          exp 1, 25 17.46 171.66 ***   .39  <.0001\n",
      "3     hemi:exp 1, 25 17.46       0.08 .0003     .78\n",
      "4          tms 1, 25 71.04  15.50 ***   .19   .0006\n",
      "5     hemi:tms 1, 25 71.04       0.98   .01     .33\n",
      "6      exp:tms 1, 25 18.70  90.35 ***   .27  <.0001\n",
      "7 hemi:exp:tms 1, 25 18.70       2.71   .01     .11\n",
      "\n",
      "Sphericity correction method: GG \n",
      "\n"
     ]
    }
   ],
   "source": [
    "model = afex.aov_ez('sub_id', 'logk', data = pre, within=['exp','tms'], between = ['hemi'])\n",
    "print(model)"
   ]
  },
  {
   "cell_type": "code",
   "execution_count": 66,
   "metadata": {},
   "outputs": [
    {
     "name": "stdout",
     "output_type": "stream",
     "text": [
      "tms right Ttest_relResult(statistic=0.55447680614333483, pvalue=0.59034775010739027)\n",
      "tms left Ttest_relResult(statistic=0.78202917517071024, pvalue=0.44722271069611585)\n",
      "tms both Ttest_relResult(statistic=0.97434837792964313, pvalue=0.3388622461016999)\n",
      "mag Ttest_relResult(statistic=-15.574204435069051, pvalue=1.0664619779333989e-14)\n"
     ]
    }
   ],
   "source": [
    "#it looks like this may be a disordinal situation where the interaction\n",
    "#is driving the main effect. Since we are interested in whether we replicated the Figner finding,\n",
    "#conduct some post-hoc t-tests\n",
    "ctrl = pre.set_index(['exp','hemi','tms']).sort_index().loc[('Ctrl','RIGHT')]\n",
    "a = ctrl.loc['Pre'].sort_values(by = 'sub_id')['logk'].values\n",
    "b = ctrl.loc['TMS'].sort_values(by = 'sub_id')['logk'].values\n",
    "print 'tms','right', scipy.stats.ttest_rel(a,b)\n",
    "\n",
    "ctrl = pre.set_index(['exp','hemi','tms']).sort_index().loc[('Ctrl','LEFT')]\n",
    "a = ctrl.loc['Pre'].sort_values(by = 'sub_id')['logk'].values\n",
    "b = ctrl.loc['TMS'].sort_values(by = 'sub_id')['logk'].values\n",
    "print 'tms','left', scipy.stats.ttest_rel(a,b)\n",
    "\n",
    "ctrl = pre.set_index(['exp','tms']).sort_index().loc[('Ctrl')]\n",
    "a = ctrl.loc['Pre'].sort_values(by = 'sub_id')['logk'].values\n",
    "b = ctrl.loc['TMS'].sort_values(by = 'sub_id')['logk'].values\n",
    "print 'tms','both', scipy.stats.ttest_rel(a,b)\n",
    "\n",
    "ctrl = pre.set_index(['tms','exp']).sort_index().loc[('Pre')]\n",
    "a = ctrl.loc['Magnitude'].sort_values(by = 'sub_id')['logk'].values\n",
    "b = ctrl.loc['Ctrl'].sort_values(by = 'sub_id')['logk'].values\n",
    "print 'mag',scipy.stats.ttest_rel(a,b)"
   ]
  },
  {
   "cell_type": "markdown",
   "metadata": {},
   "source": [
    "## Check out Hidden Zero effect"
   ]
  },
  {
   "cell_type": "code",
   "execution_count": 19,
   "metadata": {},
   "outputs": [
    {
     "data": {
      "image/png": "[encoded data removed]",
      "text/plain": [
       "<matplotlib.figure.Figure at 0x116be6250>"
      ]
     },
     "metadata": {},
     "output_type": "display_data"
    }
   ],
   "source": [
    "sns.set_context('paper',font_scale = 2,rc={\"figure.figsize\": (7, 8)})\n",
    "sns.set_style(\"white\")\n",
    "hz = results_df[results_df['exp'] != 'Magnitude'].copy()\n",
    "hz['logk_within'] = hz.groupby('sub_id').logk.transform(remove_intercept_variance,\n",
    "                                                                  hz.logk.mean())\n",
    "hz['TMS Condition'] = hz['tms']\n",
    "sns.factorplot(x = 'TMS Condition',\n",
    "            y = 'logk_within',\n",
    "            hue = 'exp' ,\n",
    "            order = ['Pre','Sham','TMS'],\n",
    "            data = hz)\n",
    "plt.ylabel('Impulsivity')\n",
    "sns.despine()\n",
    "plt.savefig(op.abspath('../fd/figs/committee_meeting/Hidden_Zero.png'), dpi = 300)"
   ]
  },
  {
   "cell_type": "markdown",
   "metadata": {},
   "source": [
    "### First assess whether the effect is significant when comparing to sham"
   ]
  },
  {
   "cell_type": "code",
   "execution_count": 45,
   "metadata": {
    "collapsed": true
   },
   "outputs": [],
   "source": [
    "sham = hz[hz['tms'] !='Pre']"
   ]
  },
  {
   "cell_type": "code",
   "execution_count": 38,
   "metadata": {},
   "outputs": [
    {
     "name": "stdout",
     "output_type": "stream",
     "text": [
      "Anova Table (Type 3 tests)\n",
      "\n",
      "Response: logk\n",
      "        Effect    df    MSE      F    ges p.value\n",
      "1         hemi 1, 25 141.09   0.12   .003     .73\n",
      "2          exp 1, 25  28.25 7.00 *    .03     .01\n",
      "3     hemi:exp 1, 25  28.25   0.02 <.0001     .90\n",
      "4          tms 1, 25  59.10   0.02  .0001     .90\n",
      "5     hemi:tms 1, 25  59.10   0.07  .0006     .79\n",
      "6      exp:tms 1, 25  28.55   0.77   .003     .39\n",
      "7 hemi:exp:tms 1, 25  28.55   0.00 <.0001     .98\n",
      "\n",
      "Sphericity correction method: GG \n",
      "\n"
     ]
    }
   ],
   "source": [
    "model = afex.aov_ez('sub_id', 'logk', data = sham, within=['exp','tms'], between = ['hemi'])\n",
    "print(model)"
   ]
  },
  {
   "cell_type": "code",
   "execution_count": 49,
   "metadata": {},
   "outputs": [
    {
     "name": "stdout",
     "output_type": "stream",
     "text": [
      "hidden zero Ttest_relResult(statistic=-1.9379668985442868, pvalue=0.063558773528699042)\n"
     ]
    }
   ],
   "source": [
    "#it looks like this may be a disordinal situation where the interaction\n",
    "#is driving the main effect. Since we are interested in whether we replicated the Figner finding,\n",
    "#conduct some post-hoc t-tests\n",
    "ctrl = sham.set_index(['tms','exp']).sort_index().loc[('Sham')]\n",
    "a = ctrl.loc['Hidden Zero'].sort_values(by = 'sub_id')['logk'].values\n",
    "b = ctrl.loc['Ctrl'].sort_values(by = 'sub_id')['logk'].values\n",
    "print 'hidden zero',scipy.stats.ttest_rel(a,b)"
   ]
  },
  {
   "cell_type": "markdown",
   "metadata": {},
   "source": [
    "### Next assess the effect relative to the pre-test"
   ]
  },
  {
   "cell_type": "code",
   "execution_count": 486,
   "metadata": {
    "collapsed": true
   },
   "outputs": [],
   "source": [
    "pre = hz[hz['tms'] !='Sham']"
   ]
  },
  {
   "cell_type": "code",
   "execution_count": 487,
   "metadata": {},
   "outputs": [
    {
     "name": "stdout",
     "output_type": "stream",
     "text": [
      "Anova Table (Type 3 tests)\n",
      "\n",
      "Response: logk\n",
      "        Effect    df    MSE         F   ges p.value\n",
      "1         hemi 1, 25 122.35      0.22  .005     .64\n",
      "2          exp 1, 25  18.80 18.82 ***   .06   .0002\n",
      "3     hemi:exp 1, 25  18.80      1.46  .005     .24\n",
      "4          tms 1, 25  55.34      0.04 .0004     .84\n",
      "5     hemi:tms 1, 25  55.34      0.97  .010     .33\n",
      "6      exp:tms 1, 25  17.36    5.13 *   .02     .03\n",
      "7 hemi:exp:tms 1, 25  17.36      2.13  .007     .16\n",
      "\n",
      "Sphericity correction method: GG \n",
      "\n"
     ]
    }
   ],
   "source": [
    "model = afex.aov_ez('sub_id', 'logk', data = pre, within=['exp','tms'], between = ['hemi'])\n",
    "print(model)"
   ]
  },
  {
   "cell_type": "code",
   "execution_count": 488,
   "metadata": {},
   "outputs": [
    {
     "name": "stdout",
     "output_type": "stream",
     "text": [
      "hidden zero Ttest_relResult(statistic=-3.4857239699456009, pvalue=0.0017588251875621996)\n"
     ]
    }
   ],
   "source": [
    "#it looks like this may be a disordinal situation where the interaction\n",
    "#is driving the main effect. Since we are interested in whether we replicated the Figner finding,\n",
    "#conduct some post-hoc t-tests\n",
    "ctrl = pre.set_index(['tms','exp']).sort_index().loc[('Pre')]\n",
    "a = ctrl.loc['Hidden Zero'].sort_values(by = 'sub_id')['logk'].values\n",
    "b = ctrl.loc['Ctrl'].sort_values(by = 'sub_id')['logk'].values\n",
    "print 'hidden zero',scipy.stats.ttest_rel(a,b)"
   ]
  },
  {
   "cell_type": "markdown",
   "metadata": {},
   "source": [
    "# Next directly compare HZ and Magnitude"
   ]
  },
  {
   "cell_type": "code",
   "execution_count": 26,
   "metadata": {
    "collapsed": true
   },
   "outputs": [],
   "source": [
    "#subtract out control conditions in order to directly compare effects\n",
    "sham = results_df[results_df['tms'] !='Pre'].set_index(['exp','tms','sub_id']).sort_index().copy()\n",
    "\n",
    "sham.loc[('Magnitude','TMS'),'logk'] = (sham.loc[('Magnitude','TMS'),'logk'] - sham.loc[('Ctrl','TMS'),'logk']).values\n",
    "sham.loc[('Magnitude','Sham'),'logk'] = (sham.loc[('Magnitude','Sham'),'logk'] - sham.loc[('Ctrl','Sham'),'logk']).values\n",
    "sham.loc[('Hidden Zero','TMS'),'logk'] = (sham.loc[('Hidden Zero','TMS'),'logk'] - sham.loc[('Ctrl','TMS'),'logk']).values\n",
    "sham.loc[('Hidden Zero','Sham'),'logk'] = (sham.loc[('Hidden Zero','Sham'),'logk'] - sham.loc[('Ctrl','Sham'),'logk']).values\n",
    "\n",
    "sham = sham.reset_index()\n",
    "sham = sham[sham['exp'] != 'Ctrl']\n",
    "sham['logk'] = sham['logk']*-1"
   ]
  },
  {
   "cell_type": "code",
   "execution_count": 35,
   "metadata": {},
   "outputs": [
    {
     "name": "stdout",
     "output_type": "stream",
     "text": [
      "-2.56301091716 0.0165123699256\n"
     ]
    }
   ],
   "source": [
    "a = results_df[results_df['tms'] =='TMS'].set_index(['exp','tms','sub_id']).sort_index().copy()\n",
    "a.loc[('Hidden Zero','TMS'),'logk'] = (a.loc[('Hidden Zero','TMS'),'logk'] - a.loc[('Ctrl','TMS'),'logk']).values\n",
    "t,p = scipy.stats.ttest_1samp(a.loc[('Hidden Zero','TMS'),'logk'],0)\n",
    "print t,p"
   ]
  },
  {
   "cell_type": "code",
   "execution_count": 32,
   "metadata": {},
   "outputs": [
    {
     "data": {
      "text/plain": [
       "<matplotlib.text.Text at 0x11c0c6390>"
      ]
     },
     "execution_count": 32,
     "metadata": {},
     "output_type": "execute_result"
    },
    {
     "data": {
      "image/png": "[encoded data removed]",
      "text/plain": [
       "<matplotlib.figure.Figure at 0x11c09fe50>"
      ]
     },
     "metadata": {},
     "output_type": "display_data"
    }
   ],
   "source": [
    "sns.factorplot(x = 'tms',\n",
    "            y = 'logk',\n",
    "            hue = 'exp',\n",
    "            order = ['Sham','TMS'], \n",
    "            data = sham)\n",
    "sns.despine()\n",
    "plt.ylabel('Effect Size')"
   ]
  },
  {
   "cell_type": "code",
   "execution_count": 56,
   "metadata": {},
   "outputs": [
    {
     "name": "stdout",
     "output_type": "stream",
     "text": [
      "Anova Table (Type 3 tests)\n",
      "\n",
      "Response: logk\n",
      "        Effect    df    MSE         F   ges p.value\n",
      "1         hemi 1, 25 119.48      0.06  .001     .80\n",
      "2          exp 1, 25  33.91 30.15 ***   .14  <.0001\n",
      "3     hemi:exp 1, 25  33.91      0.05 .0003     .82\n",
      "4          tms 1, 25  81.37 16.91 ***   .18   .0004\n",
      "5     hemi:tms 1, 25  81.37      0.20  .003     .66\n",
      "6      exp:tms 1, 25  18.33 41.86 ***   .11  <.0001\n",
      "7 hemi:exp:tms 1, 25  18.33      0.76  .002     .39\n",
      "\n",
      "Sphericity correction method: GG \n",
      "\n"
     ]
    },
    {
     "name": "stderr",
     "output_type": "stream",
     "text": [
      "//anaconda/lib/python2.7/site-packages/rpy2/rinterface/__init__.py:186: RRuntimeWarning: Contrasts set to contr.sum for the following variables: hemi\n",
      "\n",
      "  warnings.warn(x, RRuntimeWarning)\n"
     ]
    }
   ],
   "source": [
    "model = afex.aov_ez('sub_id', 'logk', data = sham, within=['exp','tms'], between = ['hemi'])\n",
    "print(model)"
   ]
  },
  {
   "cell_type": "code",
   "execution_count": 57,
   "metadata": {
    "collapsed": true
   },
   "outputs": [],
   "source": [
    "s = sham.set_index(['exp','tms']).sort_index()\n",
    "\n",
    "interaction = s.loc[('Magnitude',\"TMS\")].sort_values(by = 'sub_id')['logk'].values -\\\n",
    "s.loc[('Magnitude',\"Sham\")].sort_values(by = 'sub_id')['logk'].values -\\\n",
    "s.loc[('Hidden Zero',\"TMS\")].sort_values(by = 'sub_id')['logk'].values +\\\n",
    "s.loc[('Hidden Zero',\"Sham\")].sort_values(by = 'sub_id')['logk'].values \n",
    "\n"
   ]
  },
  {
   "cell_type": "code",
   "execution_count": 18,
   "metadata": {
    "collapsed": true
   },
   "outputs": [],
   "source": [
    "#subtract out control conditions in order to directly compare effects\n",
    "pre = results_df[results_df['tms'] !='Sham'].set_index(['exp','tms','sub_id']).sort_index().copy()\n",
    "\n",
    "pre.loc[('Magnitude','TMS'),'logk'] = (pre.loc[('Magnitude','TMS'),'logk'] - pre.loc[('Ctrl','TMS'),'logk']).values\n",
    "pre.loc[('Magnitude','Pre'),'logk'] = (pre.loc[('Magnitude','Pre'),'logk'] - pre.loc[('Ctrl','Pre'),'logk']).values\n",
    "pre.loc[('Hidden Zero','TMS'),'logk'] = (pre.loc[('Hidden Zero','TMS'),'logk'] - pre.loc[('Ctrl','TMS'),'logk']).values\n",
    "pre.loc[('Hidden Zero','Pre'),'logk'] = (pre.loc[('Hidden Zero','Pre'),'logk'] - pre.loc[('Ctrl','Pre'),'logk']).values\n",
    "\n",
    "pre = pre.reset_index()\n",
    "pre = pre[pre['exp'] != 'Ctrl']\n",
    "pre['logk'] = pre['logk']*-1"
   ]
  },
  {
   "cell_type": "code",
   "execution_count": 19,
   "metadata": {},
   "outputs": [
    {
     "data": {
      "text/plain": [
       "<matplotlib.text.Text at 0x11f55c450>"
      ]
     },
     "execution_count": 19,
     "metadata": {},
     "output_type": "execute_result"
    },
    {
     "data": {
      "image/png": "[encoded data removed]",
      "text/plain": [
       "<matplotlib.figure.Figure at 0x10aba8350>"
      ]
     },
     "metadata": {},
     "output_type": "display_data"
    }
   ],
   "source": [
    "sns.factorplot(x = 'tms',\n",
    "            y = 'logk',\n",
    "            hue = 'exp',\n",
    "            order = ['Pre','TMS'], \n",
    "            data = pre)\n",
    "sns.despine()\n",
    "plt.ylabel('Effect Size')"
   ]
  },
  {
   "cell_type": "code",
   "execution_count": 23,
   "metadata": {
    "scrolled": true
   },
   "outputs": [
    {
     "name": "stdout",
     "output_type": "stream",
     "text": [
      "13.0 0.0112809475456\n"
     ]
    }
   ],
   "source": [
    "#perform nonparametric test of percent\n",
    "diff = pre.set_index(['exp','tms'])\n",
    "\n",
    "hz_pre = diff.loc[('Hidden Zero','Pre')].sort_values(by = 'sub_id')['logk'].values\n",
    "hz_tms = diff.loc[('Hidden Zero','TMS')].sort_values(by = 'sub_id')['logk'].values\n",
    "\n",
    "mag_pre = diff.loc[('Magnitude','Pre')].sort_values(by = 'sub_id')['logk'].values\n",
    "mag_tms = diff.loc[('Magnitude','TMS')].sort_values(by = 'sub_id')['logk'].values\n",
    "\n",
    "\n",
    "mag_sign = sum(mag_tms < mag_pre)\n",
    "hz_sign = sum(hz_tms < hz_pre)\n",
    "\n",
    "nsubs = len(mag_tms)\n",
    "oddsratio, pvalue = stats.fisher_exact([[mag_sign, nsubs - mag_sign], \n",
    "                                        [hz_sign, nsubs - hz_sign]]) \n",
    "    \n",
    "print oddsratio, pvalue"
   ]
  },
  {
   "cell_type": "code",
   "execution_count": 71,
   "metadata": {
    "scrolled": true
   },
   "outputs": [
    {
     "data": {
      "image/png": "[encoded data removed]",
      "text/plain": [
       "<matplotlib.figure.Figure at 0x12b0e9cd0>"
      ]
     },
     "metadata": {},
     "output_type": "display_data"
    }
   ],
   "source": [
    "s = sham[sham['tms'] == 'Sham']\n",
    "fig_df = pd.concat([s,pre])\n",
    "tms_map = {'Pre':'Baseline', 'Sham':'Sham', 'TMS':'rTMS'}\n",
    "fig_df['tms'] = [tms_map[x] for x in fig_df['tms']]\n",
    "sns.set_context('paper',font_scale = 2,rc={\"figure.figsize\": (14, 7)})\n",
    "ax = sns.pointplot(x = 'tms',\n",
    "            y = 'logk',\n",
    "            hue = 'exp',\n",
    "            dodge = .05,\n",
    "            order = ['Baseline','Sham','rTMS'], \n",
    "            palette = flatui,\n",
    "            data = fig_df)\n",
    "sns.despine()\n",
    "plt.ylabel('Effect Size')\n",
    "plt.xlabel('')\n",
    "l = ax.legend()\n",
    "l.set_title('')\n",
    "plt.legend(bbox_to_anchor=(.9, .7), loc=2, borderaxespad=0.)\n",
    "plt.savefig(op.abspath('./figs/effect.png'), dpi = 600, bbox_inches = 'tight')\n",
    "\n"
   ]
  },
  {
   "cell_type": "code",
   "execution_count": 513,
   "metadata": {},
   "outputs": [
    {
     "name": "stdout",
     "output_type": "stream",
     "text": [
      "Anova Table (Type 3 tests)\n",
      "\n",
      "Response: logk\n",
      "        Effect    df   MSE         F   ges p.value\n",
      "1         hemi 1, 25 33.11      1.25   .01     .27\n",
      "2          exp 1, 25 39.40 32.77 ***   .26  <.0001\n",
      "3     hemi:exp 1, 25 39.40      0.41  .004     .53\n",
      "4          tms 1, 25 40.19 63.55 ***   .41  <.0001\n",
      "5     hemi:tms 1, 25 40.19    4.34 *   .05     .05\n",
      "6      exp:tms 1, 25 31.93 31.40 ***   .22  <.0001\n",
      "7 hemi:exp:tms 1, 25 31.93      0.03 .0003     .86\n",
      "\n",
      "Sphericity correction method: GG \n",
      "\n"
     ]
    }
   ],
   "source": [
    "model = afex.aov_ez('sub_id', 'logk', data = pre, within=['exp','tms'], between = ['hemi'])\n",
    "print(model)"
   ]
  },
  {
   "cell_type": "markdown",
   "metadata": {},
   "source": [
    "# Percent SS Analysis"
   ]
  },
  {
   "cell_type": "code",
   "execution_count": 82,
   "metadata": {
    "collapsed": true
   },
   "outputs": [],
   "source": [
    "perc_df =all_data.reset_index().groupby(['sub','stim','cond','hemi']).mean().reset_index()\n",
    "perc_df['sub_id'] = [str(x) + y for x,y in zip(perc_df['sub'],perc_df['hemi'])]\n",
    "perc_df['choice_binary_logit'] = [scipy.special.logit(x) for x in perc_df['choice_binary']]"
   ]
  },
  {
   "cell_type": "code",
   "execution_count": 83,
   "metadata": {
    "scrolled": true
   },
   "outputs": [
    {
     "data": {
      "text/plain": [
       "<matplotlib.text.Text at 0x12d360f10>"
      ]
     },
     "execution_count": 83,
     "metadata": {},
     "output_type": "execute_result"
    },
    {
     "data": {
      "image/png": "[encoded data removed]",
      "text/plain": [
       "<matplotlib.figure.Figure at 0x12d308e50>"
      ]
     },
     "metadata": {},
     "output_type": "display_data"
    }
   ],
   "source": [
    "sns.barplot(x = 'stim', y = 'choice_binary',hue = 'cond' , data = perc_df)\n",
    "plt.ylabel('p(SS)')"
   ]
  },
  {
   "cell_type": "markdown",
   "metadata": {},
   "source": [
    "# Figner replication"
   ]
  },
  {
   "cell_type": "code",
   "execution_count": 115,
   "metadata": {
    "collapsed": true
   },
   "outputs": [],
   "source": [
    "ctrl = perc_df[perc_df['cond'] == 'Ctrl']\n",
    "sham = ctrl[ctrl['stim'] != 'Pre']\n",
    "pre = ctrl[ctrl['stim'] != 'Sham']"
   ]
  },
  {
   "cell_type": "code",
   "execution_count": 116,
   "metadata": {},
   "outputs": [
    {
     "name": "stdout",
     "output_type": "stream",
     "text": [
      "Anova Table (Type 3 tests)\n",
      "\n",
      "Response: choice_binary_logit\n",
      "     Effect    df  MSE      F  ges p.value\n",
      "1      hemi 1, 25 0.61   0.90  .02     .35\n",
      "2      stim 1, 25 0.46 4.30 *  .07     .05\n",
      "3 hemi:stim 1, 25 0.46   0.23 .004     .64\n",
      "\n",
      "Sphericity correction method: GG \n",
      "\n"
     ]
    }
   ],
   "source": [
    "model = afex.aov_ez('sub_id', 'choice_binary_logit', \n",
    "                    data = pre, within=['stim'], between = ['hemi'])\n",
    "print(model)"
   ]
  }
 ],
 "metadata": {
  "anaconda-cloud": {},
  "kernelspec": {
   "display_name": "Python 2",
   "language": "python",
   "name": "python2"
  },
  "language_info": {
   "codemirror_mode": {
    "name": "ipython",
    "version": 2
   },
   "file_extension": ".py",
   "mimetype": "text/x-python",
   "name": "python",
   "nbconvert_exporter": "python",
   "pygments_lexer": "ipython2",
   "version": "2.7.13"
  }
 },
 "nbformat": 4,
 "nbformat_minor": 1
}
